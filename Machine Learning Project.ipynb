{
 "cells": [
  {
   "cell_type": "markdown",
   "metadata": {
    "id": "WWbqxNLZlFII"
   },
   "source": [
    "# Machine Learning for Predictive Analytics"
   ]
  },
  {
   "cell_type": "markdown",
   "metadata": {},
   "source": [
    "## Objective : Reducing monthly churn by identifying high risk customers well in advance"
   ]
  },
  {
   "cell_type": "markdown",
   "metadata": {
    "id": "RCrmVhYDlFIJ"
   },
   "source": [
    "## Packages and setup"
   ]
  },
  {
   "cell_type": "code",
   "execution_count": 1,
   "metadata": {
    "id": "duCWbBPRlFIK"
   },
   "outputs": [],
   "source": [
    "import numpy as np\n",
    "import pandas as pd \n",
    "import seaborn as sns\n",
    "import matplotlib.pyplot as plt\n",
    "import os\n",
    "\n",
    "from scipy.stats import shapiro\n",
    "import scipy.stats as stats\n",
    "\n",
    "#parameter settings\n",
    "from IPython.core.interactiveshell import InteractiveShell\n",
    "InteractiveShell.ast_node_interactivity = \"all\"\n",
    "import warnings\n",
    "warnings.filterwarnings(\"ignore\")\n",
    "warnings.simplefilter(action='ignore', category=FutureWarning)"
   ]
  },
  {
   "cell_type": "markdown",
   "metadata": {
    "id": "VoDtZpyJlFIK"
   },
   "source": [
    "## Reading data and initial processing"
   ]
  },
  {
   "cell_type": "code",
   "execution_count": 73,
   "metadata": {
    "id": "br8Y20g5lFIL"
   },
   "outputs": [
    {
     "data": {
      "text/html": [
       "<div>\n",
       "<style scoped>\n",
       "    .dataframe tbody tr th:only-of-type {\n",
       "        vertical-align: middle;\n",
       "    }\n",
       "\n",
       "    .dataframe tbody tr th {\n",
       "        vertical-align: top;\n",
       "    }\n",
       "\n",
       "    .dataframe thead th {\n",
       "        text-align: right;\n",
       "    }\n",
       "</style>\n",
       "<table border=\"1\" class=\"dataframe\">\n",
       "  <thead>\n",
       "    <tr style=\"text-align: right;\">\n",
       "      <th></th>\n",
       "      <th>CustomerID</th>\n",
       "      <th>Churn</th>\n",
       "      <th>MonthlyRevenue</th>\n",
       "      <th>MonthlyMinutes</th>\n",
       "      <th>TotalRecurringCharge</th>\n",
       "      <th>DirectorAssistedCalls</th>\n",
       "      <th>OverageMinutes</th>\n",
       "      <th>RoamingCalls</th>\n",
       "      <th>PercChangeMinutes</th>\n",
       "      <th>PercChangeRevenues</th>\n",
       "      <th>...</th>\n",
       "      <th>ReferralsMadeBySubscriber</th>\n",
       "      <th>IncomeGroup</th>\n",
       "      <th>OwnsMotorcycle</th>\n",
       "      <th>AdjustmentsToCreditRating</th>\n",
       "      <th>HandsetPrice</th>\n",
       "      <th>MadeCallToRetentionTeam</th>\n",
       "      <th>CreditRating</th>\n",
       "      <th>PrizmCode</th>\n",
       "      <th>Occupation</th>\n",
       "      <th>MaritalStatus</th>\n",
       "    </tr>\n",
       "  </thead>\n",
       "  <tbody>\n",
       "    <tr>\n",
       "      <th>0</th>\n",
       "      <td>3000002</td>\n",
       "      <td>Yes</td>\n",
       "      <td>24.00</td>\n",
       "      <td>219.0</td>\n",
       "      <td>22.0</td>\n",
       "      <td>0.25</td>\n",
       "      <td>0.0</td>\n",
       "      <td>0.0</td>\n",
       "      <td>-157.0</td>\n",
       "      <td>-19.0</td>\n",
       "      <td>...</td>\n",
       "      <td>0</td>\n",
       "      <td>4</td>\n",
       "      <td>No</td>\n",
       "      <td>0</td>\n",
       "      <td>30</td>\n",
       "      <td>Yes</td>\n",
       "      <td>1-Highest</td>\n",
       "      <td>Suburban</td>\n",
       "      <td>Professional</td>\n",
       "      <td>No</td>\n",
       "    </tr>\n",
       "    <tr>\n",
       "      <th>1</th>\n",
       "      <td>3000010</td>\n",
       "      <td>Yes</td>\n",
       "      <td>16.99</td>\n",
       "      <td>10.0</td>\n",
       "      <td>17.0</td>\n",
       "      <td>0.00</td>\n",
       "      <td>0.0</td>\n",
       "      <td>0.0</td>\n",
       "      <td>-4.0</td>\n",
       "      <td>0.0</td>\n",
       "      <td>...</td>\n",
       "      <td>0</td>\n",
       "      <td>5</td>\n",
       "      <td>No</td>\n",
       "      <td>0</td>\n",
       "      <td>30</td>\n",
       "      <td>No</td>\n",
       "      <td>4-Medium</td>\n",
       "      <td>Suburban</td>\n",
       "      <td>Professional</td>\n",
       "      <td>Yes</td>\n",
       "    </tr>\n",
       "    <tr>\n",
       "      <th>2</th>\n",
       "      <td>3000014</td>\n",
       "      <td>No</td>\n",
       "      <td>38.00</td>\n",
       "      <td>8.0</td>\n",
       "      <td>38.0</td>\n",
       "      <td>0.00</td>\n",
       "      <td>0.0</td>\n",
       "      <td>0.0</td>\n",
       "      <td>-2.0</td>\n",
       "      <td>0.0</td>\n",
       "      <td>...</td>\n",
       "      <td>0</td>\n",
       "      <td>6</td>\n",
       "      <td>No</td>\n",
       "      <td>0</td>\n",
       "      <td>Unknown</td>\n",
       "      <td>No</td>\n",
       "      <td>3-Good</td>\n",
       "      <td>Town</td>\n",
       "      <td>Crafts</td>\n",
       "      <td>Yes</td>\n",
       "    </tr>\n",
       "    <tr>\n",
       "      <th>3</th>\n",
       "      <td>3000022</td>\n",
       "      <td>No</td>\n",
       "      <td>82.28</td>\n",
       "      <td>1312.0</td>\n",
       "      <td>75.0</td>\n",
       "      <td>1.24</td>\n",
       "      <td>0.0</td>\n",
       "      <td>0.0</td>\n",
       "      <td>157.0</td>\n",
       "      <td>8.1</td>\n",
       "      <td>...</td>\n",
       "      <td>0</td>\n",
       "      <td>6</td>\n",
       "      <td>No</td>\n",
       "      <td>0</td>\n",
       "      <td>10</td>\n",
       "      <td>No</td>\n",
       "      <td>4-Medium</td>\n",
       "      <td>Other</td>\n",
       "      <td>Other</td>\n",
       "      <td>No</td>\n",
       "    </tr>\n",
       "    <tr>\n",
       "      <th>4</th>\n",
       "      <td>3000026</td>\n",
       "      <td>Yes</td>\n",
       "      <td>17.14</td>\n",
       "      <td>0.0</td>\n",
       "      <td>17.0</td>\n",
       "      <td>0.00</td>\n",
       "      <td>0.0</td>\n",
       "      <td>0.0</td>\n",
       "      <td>0.0</td>\n",
       "      <td>-0.2</td>\n",
       "      <td>...</td>\n",
       "      <td>0</td>\n",
       "      <td>9</td>\n",
       "      <td>No</td>\n",
       "      <td>1</td>\n",
       "      <td>10</td>\n",
       "      <td>No</td>\n",
       "      <td>1-Highest</td>\n",
       "      <td>Other</td>\n",
       "      <td>Professional</td>\n",
       "      <td>Yes</td>\n",
       "    </tr>\n",
       "    <tr>\n",
       "      <th>...</th>\n",
       "      <td>...</td>\n",
       "      <td>...</td>\n",
       "      <td>...</td>\n",
       "      <td>...</td>\n",
       "      <td>...</td>\n",
       "      <td>...</td>\n",
       "      <td>...</td>\n",
       "      <td>...</td>\n",
       "      <td>...</td>\n",
       "      <td>...</td>\n",
       "      <td>...</td>\n",
       "      <td>...</td>\n",
       "      <td>...</td>\n",
       "      <td>...</td>\n",
       "      <td>...</td>\n",
       "      <td>...</td>\n",
       "      <td>...</td>\n",
       "      <td>...</td>\n",
       "      <td>...</td>\n",
       "      <td>...</td>\n",
       "      <td>...</td>\n",
       "    </tr>\n",
       "    <tr>\n",
       "      <th>51042</th>\n",
       "      <td>3399958</td>\n",
       "      <td>Yes</td>\n",
       "      <td>NaN</td>\n",
       "      <td>NaN</td>\n",
       "      <td>NaN</td>\n",
       "      <td>NaN</td>\n",
       "      <td>NaN</td>\n",
       "      <td>NaN</td>\n",
       "      <td>NaN</td>\n",
       "      <td>NaN</td>\n",
       "      <td>...</td>\n",
       "      <td>0</td>\n",
       "      <td>6</td>\n",
       "      <td>No</td>\n",
       "      <td>0</td>\n",
       "      <td>60</td>\n",
       "      <td>No</td>\n",
       "      <td>1-Highest</td>\n",
       "      <td>Suburban</td>\n",
       "      <td>Other</td>\n",
       "      <td>Yes</td>\n",
       "    </tr>\n",
       "    <tr>\n",
       "      <th>51043</th>\n",
       "      <td>3399974</td>\n",
       "      <td>No</td>\n",
       "      <td>95.17</td>\n",
       "      <td>1745.0</td>\n",
       "      <td>85.0</td>\n",
       "      <td>0.99</td>\n",
       "      <td>45.0</td>\n",
       "      <td>4.7</td>\n",
       "      <td>122.0</td>\n",
       "      <td>15.9</td>\n",
       "      <td>...</td>\n",
       "      <td>0</td>\n",
       "      <td>9</td>\n",
       "      <td>No</td>\n",
       "      <td>1</td>\n",
       "      <td>60</td>\n",
       "      <td>No</td>\n",
       "      <td>3-Good</td>\n",
       "      <td>Other</td>\n",
       "      <td>Other</td>\n",
       "      <td>No</td>\n",
       "    </tr>\n",
       "    <tr>\n",
       "      <th>51044</th>\n",
       "      <td>3399978</td>\n",
       "      <td>Yes</td>\n",
       "      <td>NaN</td>\n",
       "      <td>NaN</td>\n",
       "      <td>NaN</td>\n",
       "      <td>NaN</td>\n",
       "      <td>NaN</td>\n",
       "      <td>NaN</td>\n",
       "      <td>NaN</td>\n",
       "      <td>NaN</td>\n",
       "      <td>...</td>\n",
       "      <td>0</td>\n",
       "      <td>7</td>\n",
       "      <td>No</td>\n",
       "      <td>1</td>\n",
       "      <td>80</td>\n",
       "      <td>No</td>\n",
       "      <td>5-Low</td>\n",
       "      <td>Other</td>\n",
       "      <td>Clerical</td>\n",
       "      <td>No</td>\n",
       "    </tr>\n",
       "    <tr>\n",
       "      <th>51045</th>\n",
       "      <td>3399990</td>\n",
       "      <td>No</td>\n",
       "      <td>NaN</td>\n",
       "      <td>NaN</td>\n",
       "      <td>NaN</td>\n",
       "      <td>NaN</td>\n",
       "      <td>NaN</td>\n",
       "      <td>NaN</td>\n",
       "      <td>NaN</td>\n",
       "      <td>NaN</td>\n",
       "      <td>...</td>\n",
       "      <td>0</td>\n",
       "      <td>9</td>\n",
       "      <td>No</td>\n",
       "      <td>0</td>\n",
       "      <td>30</td>\n",
       "      <td>No</td>\n",
       "      <td>5-Low</td>\n",
       "      <td>Other</td>\n",
       "      <td>Other</td>\n",
       "      <td>No</td>\n",
       "    </tr>\n",
       "    <tr>\n",
       "      <th>51046</th>\n",
       "      <td>3399994</td>\n",
       "      <td>No</td>\n",
       "      <td>NaN</td>\n",
       "      <td>NaN</td>\n",
       "      <td>NaN</td>\n",
       "      <td>NaN</td>\n",
       "      <td>NaN</td>\n",
       "      <td>NaN</td>\n",
       "      <td>NaN</td>\n",
       "      <td>NaN</td>\n",
       "      <td>...</td>\n",
       "      <td>0</td>\n",
       "      <td>0</td>\n",
       "      <td>No</td>\n",
       "      <td>1</td>\n",
       "      <td>60</td>\n",
       "      <td>Yes</td>\n",
       "      <td>5-Low</td>\n",
       "      <td>Other</td>\n",
       "      <td>Other</td>\n",
       "      <td>Unknown</td>\n",
       "    </tr>\n",
       "  </tbody>\n",
       "</table>\n",
       "<p>51047 rows × 58 columns</p>\n",
       "</div>"
      ],
      "text/plain": [
       "       CustomerID Churn  MonthlyRevenue  MonthlyMinutes  TotalRecurringCharge  \\\n",
       "0         3000002   Yes           24.00           219.0                  22.0   \n",
       "1         3000010   Yes           16.99            10.0                  17.0   \n",
       "2         3000014    No           38.00             8.0                  38.0   \n",
       "3         3000022    No           82.28          1312.0                  75.0   \n",
       "4         3000026   Yes           17.14             0.0                  17.0   \n",
       "...           ...   ...             ...             ...                   ...   \n",
       "51042     3399958   Yes             NaN             NaN                   NaN   \n",
       "51043     3399974    No           95.17          1745.0                  85.0   \n",
       "51044     3399978   Yes             NaN             NaN                   NaN   \n",
       "51045     3399990    No             NaN             NaN                   NaN   \n",
       "51046     3399994    No             NaN             NaN                   NaN   \n",
       "\n",
       "       DirectorAssistedCalls  OverageMinutes  RoamingCalls  PercChangeMinutes  \\\n",
       "0                       0.25             0.0           0.0             -157.0   \n",
       "1                       0.00             0.0           0.0               -4.0   \n",
       "2                       0.00             0.0           0.0               -2.0   \n",
       "3                       1.24             0.0           0.0              157.0   \n",
       "4                       0.00             0.0           0.0                0.0   \n",
       "...                      ...             ...           ...                ...   \n",
       "51042                    NaN             NaN           NaN                NaN   \n",
       "51043                   0.99            45.0           4.7              122.0   \n",
       "51044                    NaN             NaN           NaN                NaN   \n",
       "51045                    NaN             NaN           NaN                NaN   \n",
       "51046                    NaN             NaN           NaN                NaN   \n",
       "\n",
       "       PercChangeRevenues  ...  ReferralsMadeBySubscriber  IncomeGroup  \\\n",
       "0                   -19.0  ...                          0            4   \n",
       "1                     0.0  ...                          0            5   \n",
       "2                     0.0  ...                          0            6   \n",
       "3                     8.1  ...                          0            6   \n",
       "4                    -0.2  ...                          0            9   \n",
       "...                   ...  ...                        ...          ...   \n",
       "51042                 NaN  ...                          0            6   \n",
       "51043                15.9  ...                          0            9   \n",
       "51044                 NaN  ...                          0            7   \n",
       "51045                 NaN  ...                          0            9   \n",
       "51046                 NaN  ...                          0            0   \n",
       "\n",
       "       OwnsMotorcycle  AdjustmentsToCreditRating  HandsetPrice  \\\n",
       "0                  No                          0            30   \n",
       "1                  No                          0            30   \n",
       "2                  No                          0       Unknown   \n",
       "3                  No                          0            10   \n",
       "4                  No                          1            10   \n",
       "...               ...                        ...           ...   \n",
       "51042              No                          0            60   \n",
       "51043              No                          1            60   \n",
       "51044              No                          1            80   \n",
       "51045              No                          0            30   \n",
       "51046              No                          1            60   \n",
       "\n",
       "       MadeCallToRetentionTeam  CreditRating  PrizmCode    Occupation  \\\n",
       "0                          Yes     1-Highest   Suburban  Professional   \n",
       "1                           No      4-Medium   Suburban  Professional   \n",
       "2                           No        3-Good       Town        Crafts   \n",
       "3                           No      4-Medium      Other         Other   \n",
       "4                           No     1-Highest      Other  Professional   \n",
       "...                        ...           ...        ...           ...   \n",
       "51042                       No     1-Highest   Suburban         Other   \n",
       "51043                       No        3-Good      Other         Other   \n",
       "51044                       No         5-Low      Other      Clerical   \n",
       "51045                       No         5-Low      Other         Other   \n",
       "51046                      Yes         5-Low      Other         Other   \n",
       "\n",
       "       MaritalStatus  \n",
       "0                 No  \n",
       "1                Yes  \n",
       "2                Yes  \n",
       "3                 No  \n",
       "4                Yes  \n",
       "...              ...  \n",
       "51042            Yes  \n",
       "51043             No  \n",
       "51044             No  \n",
       "51045             No  \n",
       "51046        Unknown  \n",
       "\n",
       "[51047 rows x 58 columns]"
      ]
     },
     "execution_count": 73,
     "metadata": {},
     "output_type": "execute_result"
    }
   ],
   "source": [
    "#edit the file location of raw data set\n",
    "cust_df=pd.read_csv(\"Telecom data.csv\")\n",
    "cust_df"
   ]
  },
  {
   "cell_type": "markdown",
   "metadata": {
    "id": "arTuXCYclFIL"
   },
   "source": [
    "## Exercise"
   ]
  },
  {
   "cell_type": "markdown",
   "metadata": {
    "id": "46n6OhqOlFIN"
   },
   "source": [
    "## Placeholder for your analysis"
   ]
  },
  {
   "cell_type": "code",
   "execution_count": 74,
   "metadata": {
    "id": "xDu2UNTvlFIO"
   },
   "outputs": [
    {
     "data": {
      "text/plain": [
       "(51047, 58)"
      ]
     },
     "execution_count": 74,
     "metadata": {},
     "output_type": "execute_result"
    },
    {
     "name": "stdout",
     "output_type": "stream",
     "text": [
      "No     36336\n",
      "Yes    14711\n",
      "Name: Churn, dtype: int64\n"
     ]
    }
   ],
   "source": [
    "# Type your code here to explore and understand the data better\n",
    "\n",
    "#e.g., identify the dimension of cust_df\n",
    "cust_df.shape\n",
    "print(cust_df['Churn'].value_counts())\n",
    "\n"
   ]
  },
  {
   "cell_type": "markdown",
   "metadata": {},
   "source": [
    "### The dataset is imbalanced as the number of customers who churned are more than twice than that who didn't."
   ]
  },
  {
   "cell_type": "markdown",
   "metadata": {
    "id": "rsOVIvHSlFIO"
   },
   "source": [
    "## Q1. Detect and resolve problems in the data (Missing value, Outliers, Unexpected value, etc.)"
   ]
  },
  {
   "cell_type": "markdown",
   "metadata": {
    "id": "qoX4uCUIlFIP"
   },
   "source": [
    "### Q1.1 How many customers had zero monthly revenue?"
   ]
  },
  {
   "cell_type": "code",
   "execution_count": 75,
   "metadata": {
    "id": "qSmjZ8QQlFIP"
   },
   "outputs": [
    {
     "data": {
      "text/plain": [
       "6"
      ]
     },
     "execution_count": 75,
     "metadata": {},
     "output_type": "execute_result"
    }
   ],
   "source": [
    "#How many customers had zero monthly revenue?\n",
    "#Exclude the customers with zero monthly revenue from cust_df and from any subsequent analysis\n",
    "customer_zero_monthly_revenue = len(cust_df[cust_df['MonthlyRevenue'] == 0])\n",
    "customer_zero_monthly_revenue"
   ]
  },
  {
   "cell_type": "code",
   "execution_count": 76,
   "metadata": {},
   "outputs": [],
   "source": [
    "cust_df =  cust_df[cust_df['MonthlyRevenue'] > 0]"
   ]
  },
  {
   "cell_type": "markdown",
   "metadata": {
    "id": "IEil-5AblFIP"
   },
   "source": [
    "### Q1.2 How many columns has missing values percentage > 5%"
   ]
  },
  {
   "cell_type": "code",
   "execution_count": 77,
   "metadata": {
    "id": "9r1UrF0PlFIQ"
   },
   "outputs": [
    {
     "data": {
      "text/plain": [
       "CustomerID                   0.000000\n",
       "Churn                        0.000000\n",
       "MonthlyRevenue               0.000000\n",
       "MonthlyMinutes               0.000000\n",
       "TotalRecurringCharge         0.000000\n",
       "DirectorAssistedCalls        0.000000\n",
       "OverageMinutes               0.000000\n",
       "RoamingCalls                 0.000000\n",
       "PercChangeMinutes            0.408789\n",
       "PercChangeRevenues           0.408789\n",
       "DroppedCalls                 0.000000\n",
       "BlockedCalls                 0.000000\n",
       "UnansweredCalls              0.000000\n",
       "CustomerCareCalls            0.000000\n",
       "ThreewayCalls                0.000000\n",
       "ReceivedCalls                0.000000\n",
       "OutboundCalls                0.000000\n",
       "InboundCalls                 0.000000\n",
       "PeakCallsInOut               0.000000\n",
       "OffPeakCallsInOut            0.000000\n",
       "DroppedBlockedCalls          0.000000\n",
       "CallForwardingCalls          0.000000\n",
       "CallWaitingCalls             0.000000\n",
       "MonthsInService              0.000000\n",
       "UniqueSubs                   0.000000\n",
       "ActiveSubs                   0.000000\n",
       "ServiceArea                  0.047168\n",
       "Handsets                     0.001965\n",
       "HandsetModels                0.001965\n",
       "CurrentEquipmentDays         0.001965\n",
       "AgeHH1                       1.778625\n",
       "AgeHH2                       1.778625\n",
       "ChildrenInHH                 0.000000\n",
       "HandsetRefurbished           0.000000\n",
       "HandsetWebCapable            0.000000\n",
       "TruckOwner                   0.000000\n",
       "RVOwner                      0.000000\n",
       "Homeownership                0.000000\n",
       "BuysViaMailOrder             0.000000\n",
       "RespondsToMailOffers         0.000000\n",
       "OptOutMailings               0.000000\n",
       "NonUSTravel                  0.000000\n",
       "OwnsComputer                 0.000000\n",
       "HasCreditCard                0.000000\n",
       "RetentionCalls               0.000000\n",
       "RetentionOffersAccepted      0.000000\n",
       "NewCellphoneUser             0.000000\n",
       "NotNewCellphoneUser          0.000000\n",
       "ReferralsMadeBySubscriber    0.000000\n",
       "IncomeGroup                  0.000000\n",
       "OwnsMotorcycle               0.000000\n",
       "AdjustmentsToCreditRating    0.000000\n",
       "HandsetPrice                 0.000000\n",
       "MadeCallToRetentionTeam      0.000000\n",
       "CreditRating                 0.000000\n",
       "PrizmCode                    0.000000\n",
       "Occupation                   0.000000\n",
       "MaritalStatus                0.000000\n",
       "dtype: float64"
      ]
     },
     "execution_count": 77,
     "metadata": {},
     "output_type": "execute_result"
    }
   ],
   "source": [
    "#Calculate for each column % of missing value in the data\n",
    "#How many columns has missing values percentage > 5%\n",
    "#What strategy should be used for imputation?\n",
    "(cust_df.isnull().sum()/cust_df.shape[0])*100"
   ]
  },
  {
   "cell_type": "markdown",
   "metadata": {
    "id": "wtaCwTMqlFIQ"
   },
   "source": [
    "<mark>__Result:__\n",
    "    \n",
    "Type your answer here for how would you impute the missing values (if any)\n",
    "    \n",
    "As the missing values in each column very less, we can simply drop that row. Imputation is needed when the columns containing the data is very important and missing value percentage is very high say around 40% - 50%."
   ]
  },
  {
   "cell_type": "code",
   "execution_count": 78,
   "metadata": {},
   "outputs": [],
   "source": [
    "# Dropping rows with missing values\n",
    "cust_df.dropna(inplace = True)"
   ]
  },
  {
   "cell_type": "code",
   "execution_count": 79,
   "metadata": {},
   "outputs": [
    {
     "data": {
      "text/plain": [
       "CustomerID                   0\n",
       "Churn                        0\n",
       "MonthlyRevenue               0\n",
       "MonthlyMinutes               0\n",
       "TotalRecurringCharge         0\n",
       "DirectorAssistedCalls        0\n",
       "OverageMinutes               0\n",
       "RoamingCalls                 0\n",
       "PercChangeMinutes            0\n",
       "PercChangeRevenues           0\n",
       "DroppedCalls                 0\n",
       "BlockedCalls                 0\n",
       "UnansweredCalls              0\n",
       "CustomerCareCalls            0\n",
       "ThreewayCalls                0\n",
       "ReceivedCalls                0\n",
       "OutboundCalls                0\n",
       "InboundCalls                 0\n",
       "PeakCallsInOut               0\n",
       "OffPeakCallsInOut            0\n",
       "DroppedBlockedCalls          0\n",
       "CallForwardingCalls          0\n",
       "CallWaitingCalls             0\n",
       "MonthsInService              0\n",
       "UniqueSubs                   0\n",
       "ActiveSubs                   0\n",
       "ServiceArea                  0\n",
       "Handsets                     0\n",
       "HandsetModels                0\n",
       "CurrentEquipmentDays         0\n",
       "AgeHH1                       0\n",
       "AgeHH2                       0\n",
       "ChildrenInHH                 0\n",
       "HandsetRefurbished           0\n",
       "HandsetWebCapable            0\n",
       "TruckOwner                   0\n",
       "RVOwner                      0\n",
       "Homeownership                0\n",
       "BuysViaMailOrder             0\n",
       "RespondsToMailOffers         0\n",
       "OptOutMailings               0\n",
       "NonUSTravel                  0\n",
       "OwnsComputer                 0\n",
       "HasCreditCard                0\n",
       "RetentionCalls               0\n",
       "RetentionOffersAccepted      0\n",
       "NewCellphoneUser             0\n",
       "NotNewCellphoneUser          0\n",
       "ReferralsMadeBySubscriber    0\n",
       "IncomeGroup                  0\n",
       "OwnsMotorcycle               0\n",
       "AdjustmentsToCreditRating    0\n",
       "HandsetPrice                 0\n",
       "MadeCallToRetentionTeam      0\n",
       "CreditRating                 0\n",
       "PrizmCode                    0\n",
       "Occupation                   0\n",
       "MaritalStatus                0\n",
       "dtype: int64"
      ]
     },
     "execution_count": 79,
     "metadata": {},
     "output_type": "execute_result"
    }
   ],
   "source": [
    "cust_df.isnull().sum()"
   ]
  },
  {
   "cell_type": "markdown",
   "metadata": {
    "id": "MMq6xiX_lFIQ"
   },
   "source": [
    "### Q1.3 For columns, \"UniqueSubs\" and \"DirectorAssistedCalls\" remove outliers, if any"
   ]
  },
  {
   "cell_type": "code",
   "execution_count": 80,
   "metadata": {
    "id": "RurTZpXRlFIR",
    "outputId": "79b9bba5-8ccb-47ef-db45-a49f5e4f1168"
   },
   "outputs": [
    {
     "data": {
      "text/plain": [
       "<AxesSubplot:>"
      ]
     },
     "execution_count": 80,
     "metadata": {},
     "output_type": "execute_result"
    },
    {
     "data": {
      "image/png": "[encoded data removed]",
      "text/plain": [
       "<Figure size 432x288 with 1 Axes>"
      ]
     },
     "metadata": {
      "needs_background": "light"
     },
     "output_type": "display_data"
    }
   ],
   "source": [
    "#plot box plot using pandas for columns \"UniqueSubs\" and \"DirectorAssistedCalls\"\n",
    "cols=[\"UniqueSubs\",\"DirectorAssistedCalls\"]\n",
    "cust_df.boxplot(column=cols)"
   ]
  },
  {
   "cell_type": "code",
   "execution_count": 81,
   "metadata": {
    "id": "MXMbtk5TlFIS"
   },
   "outputs": [
    {
     "name": "stdout",
     "output_type": "stream",
     "text": [
      "5.0\n",
      "9.65\n"
     ]
    }
   ],
   "source": [
    "#Remove top 1% outliers from the above mentioned two columns and plot the box plot again\n",
    "#Use \"quantile\" function to identify top 1% outliers\n",
    "print(cust_df['UniqueSubs'].quantile(0.99))\n",
    "print(cust_df['DirectorAssistedCalls'].quantile(0.99))"
   ]
  },
  {
   "cell_type": "code",
   "execution_count": 82,
   "metadata": {},
   "outputs": [
    {
     "data": {
      "text/plain": [
       "<AxesSubplot:>"
      ]
     },
     "execution_count": 82,
     "metadata": {},
     "output_type": "execute_result"
    },
    {
     "data": {
      "image/png": "[encoded data removed]",
      "text/plain": [
       "<Figure size 432x288 with 1 Axes>"
      ]
     },
     "metadata": {
      "needs_background": "light"
     },
     "output_type": "display_data"
    }
   ],
   "source": [
    "# As we have to remove top 1% data in the form of outlier from the above two columns. This means we need to take only 99% quantile\n",
    "# values into consideration.\n",
    "\n",
    "cust_df = cust_df[(cust_df['UniqueSubs'] <= 5.0) & (cust_df['DirectorAssistedCalls'] <= 9.65)]\n",
    "cust_df.boxplot(column = cols)"
   ]
  },
  {
   "cell_type": "markdown",
   "metadata": {
    "id": "j9nGdg_jlFIS"
   },
   "source": [
    "## Q2. Perform exploratory analysis to analyze customer churn"
   ]
  },
  {
   "cell_type": "markdown",
   "metadata": {
    "id": "kuLvZj8LlFIS"
   },
   "source": [
    "### Q2.1 Does customers with high overage minutes also have high revenue?"
   ]
  },
  {
   "cell_type": "code",
   "execution_count": 83,
   "metadata": {
    "id": "9iwrU-MelFIT"
   },
   "outputs": [
    {
     "data": {
      "text/plain": [
       "<AxesSubplot:xlabel='MonthlyRevenue', ylabel='OverageMinutes'>"
      ]
     },
     "execution_count": 83,
     "metadata": {},
     "output_type": "execute_result"
    },
    {
     "data": {
      "image/png": "[encoded data removed]",
      "text/plain": [
       "<Figure size 432x288 with 1 Axes>"
      ]
     },
     "metadata": {
      "needs_background": "light"
     },
     "output_type": "display_data"
    }
   ],
   "source": [
    "#use scatter plot to find the correlation between monthly revenue and overage minutes\n",
    "sns.scatterplot(x = 'MonthlyRevenue', y = 'OverageMinutes', data = cust_df)"
   ]
  },
  {
   "cell_type": "markdown",
   "metadata": {
    "id": "p0c7mh47lFIT"
   },
   "source": [
    "<mark>__Result:__\n",
    "    \n",
    "Type your interpretation here based on the scatter plot analysis"
   ]
  },
  {
   "cell_type": "markdown",
   "metadata": {},
   "source": [
    "### As can be seen from the scatter plot that their exists a positive correlation between MonthlyRevenue & OverageMinutes"
   ]
  },
  {
   "cell_type": "markdown",
   "metadata": {
    "id": "ypcm12s6lFIT"
   },
   "source": [
    "### Q2.2 Does high number of active subscribers lead to low monthly revenue?"
   ]
  },
  {
   "cell_type": "code",
   "execution_count": 13,
   "metadata": {
    "id": "K_Hbu6DvlFIU"
   },
   "outputs": [
    {
     "data": {
      "text/plain": [
       "<seaborn.axisgrid.FacetGrid at 0x1c12759b160>"
      ]
     },
     "execution_count": 13,
     "metadata": {},
     "output_type": "execute_result"
    },
    {
     "data": {
      "image/png": "[encoded data removed]",
      "text/plain": [
       "<Figure size 360x360 with 1 Axes>"
      ]
     },
     "metadata": {
      "needs_background": "light"
     },
     "output_type": "display_data"
    }
   ],
   "source": [
    "#use category plot to plot monthly revenue for each active subs category\n",
    "sns.catplot(x = 'ActiveSubs', y = 'MonthlyRevenue', data = cust_df) "
   ]
  },
  {
   "cell_type": "markdown",
   "metadata": {
    "id": "mkrnwbZhlFIU"
   },
   "source": [
    "<mark>__Result:__\n",
    "    \n",
    "Type your interpretation here based on the category plot analysis"
   ]
  },
  {
   "cell_type": "markdown",
   "metadata": {},
   "source": [
    "### As can be seen from the above catplot that increasing the number of active subscribers leads to decreasing monthly revenue."
   ]
  },
  {
   "cell_type": "markdown",
   "metadata": {
    "id": "uZYchMbslFIU"
   },
   "source": [
    "### Q2.3 Does credit rating have an impact in churn rate?"
   ]
  },
  {
   "cell_type": "code",
   "execution_count": 14,
   "metadata": {
    "id": "VLQbrOxulFIU"
   },
   "outputs": [
    {
     "data": {
      "text/html": [
       "<div>\n",
       "<style scoped>\n",
       "    .dataframe tbody tr th:only-of-type {\n",
       "        vertical-align: middle;\n",
       "    }\n",
       "\n",
       "    .dataframe tbody tr th {\n",
       "        vertical-align: top;\n",
       "    }\n",
       "\n",
       "    .dataframe thead th {\n",
       "        text-align: right;\n",
       "    }\n",
       "</style>\n",
       "<table border=\"1\" class=\"dataframe\">\n",
       "  <thead>\n",
       "    <tr style=\"text-align: right;\">\n",
       "      <th>CreditRating</th>\n",
       "      <th>1-Highest</th>\n",
       "      <th>2-High</th>\n",
       "      <th>3-Good</th>\n",
       "      <th>4-Medium</th>\n",
       "      <th>5-Low</th>\n",
       "      <th>6-VeryLow</th>\n",
       "      <th>7-Lowest</th>\n",
       "    </tr>\n",
       "    <tr>\n",
       "      <th>Churn</th>\n",
       "      <th></th>\n",
       "      <th></th>\n",
       "      <th></th>\n",
       "      <th></th>\n",
       "      <th></th>\n",
       "      <th></th>\n",
       "      <th></th>\n",
       "    </tr>\n",
       "  </thead>\n",
       "  <tbody>\n",
       "    <tr>\n",
       "      <th>No</th>\n",
       "      <td>0.693462</td>\n",
       "      <td>0.700059</td>\n",
       "      <td>0.692289</td>\n",
       "      <td>0.74253</td>\n",
       "      <td>0.782293</td>\n",
       "      <td>0.735915</td>\n",
       "      <td>0.712808</td>\n",
       "    </tr>\n",
       "    <tr>\n",
       "      <th>Yes</th>\n",
       "      <td>0.306538</td>\n",
       "      <td>0.299941</td>\n",
       "      <td>0.307711</td>\n",
       "      <td>0.25747</td>\n",
       "      <td>0.217707</td>\n",
       "      <td>0.264085</td>\n",
       "      <td>0.287192</td>\n",
       "    </tr>\n",
       "  </tbody>\n",
       "</table>\n",
       "</div>"
      ],
      "text/plain": [
       "CreditRating  1-Highest    2-High    3-Good  4-Medium     5-Low  6-VeryLow  \\\n",
       "Churn                                                                        \n",
       "No             0.693462  0.700059  0.692289   0.74253  0.782293   0.735915   \n",
       "Yes            0.306538  0.299941  0.307711   0.25747  0.217707   0.264085   \n",
       "\n",
       "CreditRating  7-Lowest  \n",
       "Churn                   \n",
       "No            0.712808  \n",
       "Yes           0.287192  "
      ]
     },
     "execution_count": 14,
     "metadata": {},
     "output_type": "execute_result"
    },
    {
     "data": {
      "text/html": [
       "<div>\n",
       "<style scoped>\n",
       "    .dataframe tbody tr th:only-of-type {\n",
       "        vertical-align: middle;\n",
       "    }\n",
       "\n",
       "    .dataframe tbody tr th {\n",
       "        vertical-align: top;\n",
       "    }\n",
       "\n",
       "    .dataframe thead th {\n",
       "        text-align: right;\n",
       "    }\n",
       "</style>\n",
       "<table border=\"1\" class=\"dataframe\">\n",
       "  <thead>\n",
       "    <tr style=\"text-align: right;\">\n",
       "      <th>CreditRating</th>\n",
       "      <th>1-Highest</th>\n",
       "      <th>2-High</th>\n",
       "      <th>3-Good</th>\n",
       "      <th>4-Medium</th>\n",
       "      <th>5-Low</th>\n",
       "      <th>6-VeryLow</th>\n",
       "      <th>7-Lowest</th>\n",
       "    </tr>\n",
       "    <tr>\n",
       "      <th>Churn</th>\n",
       "      <th></th>\n",
       "      <th></th>\n",
       "      <th></th>\n",
       "      <th></th>\n",
       "      <th></th>\n",
       "      <th></th>\n",
       "      <th></th>\n",
       "    </tr>\n",
       "  </thead>\n",
       "  <tbody>\n",
       "    <tr>\n",
       "      <th>No</th>\n",
       "      <td>0.162354</td>\n",
       "      <td>0.370602</td>\n",
       "      <td>0.159984</td>\n",
       "      <td>0.109293</td>\n",
       "      <td>0.138537</td>\n",
       "      <td>0.017906</td>\n",
       "      <td>0.041324</td>\n",
       "    </tr>\n",
       "    <tr>\n",
       "      <th>Yes</th>\n",
       "      <td>0.178887</td>\n",
       "      <td>0.395786</td>\n",
       "      <td>0.177249</td>\n",
       "      <td>0.094462</td>\n",
       "      <td>0.096099</td>\n",
       "      <td>0.016017</td>\n",
       "      <td>0.041501</td>\n",
       "    </tr>\n",
       "  </tbody>\n",
       "</table>\n",
       "</div>"
      ],
      "text/plain": [
       "CreditRating  1-Highest    2-High    3-Good  4-Medium     5-Low  6-VeryLow  \\\n",
       "Churn                                                                        \n",
       "No             0.162354  0.370602  0.159984  0.109293  0.138537   0.017906   \n",
       "Yes            0.178887  0.395786  0.177249  0.094462  0.096099   0.016017   \n",
       "\n",
       "CreditRating  7-Lowest  \n",
       "Churn                   \n",
       "No            0.041324  \n",
       "Yes           0.041501  "
      ]
     },
     "execution_count": 14,
     "metadata": {},
     "output_type": "execute_result"
    }
   ],
   "source": [
    "pd.crosstab(cust_df.Churn, cust_df.CreditRating).apply(lambda x : x/x.sum(), axis = 0)\n",
    "pd.crosstab(cust_df.Churn, cust_df.CreditRating).apply(lambda x : x/x.sum(), axis = 1)"
   ]
  },
  {
   "cell_type": "markdown",
   "metadata": {
    "id": "Tm9Kkol0lFIV"
   },
   "source": [
    "<mark>__Result:__\n",
    "    \n",
    "Type your interpretation here based on the analysis above"
   ]
  },
  {
   "cell_type": "markdown",
   "metadata": {},
   "source": [
    "### It seems that customers are churning irrespective of their credit rating & proportion of churned customers is large on high credit score"
   ]
  },
  {
   "cell_type": "markdown",
   "metadata": {
    "id": "okgnaKbclFIV"
   },
   "source": [
    "### Placeholder for additional exploratory analysis"
   ]
  },
  {
   "cell_type": "code",
   "execution_count": null,
   "metadata": {
    "id": "bJkZDBualFIV"
   },
   "outputs": [],
   "source": [
    "#type your code here for any additional exploratory analysis (if any)\n",
    "\n"
   ]
  },
  {
   "cell_type": "markdown",
   "metadata": {
    "id": "1v8DwkhPlFIV"
   },
   "source": [
    "## Q3. Create additional features to help predict churn"
   ]
  },
  {
   "cell_type": "code",
   "execution_count": 84,
   "metadata": {
    "id": "Qtk8mg8OlFIW"
   },
   "outputs": [],
   "source": [
    "#wrapper function to create additional features for churn prediction\n",
    "def create_features(cust_df):\n",
    "    \n",
    "    #3.1 Percent of current active subs over total subs\n",
    "    cust_df['perc_active_subs'] = cust_df['ActiveSubs'] / cust_df['UniqueSubs']\n",
    "    \n",
    "    #3.2 Percent of recurrent charge to monthly charge\n",
    "    #type your code here to create a new column in cust_df\n",
    "    cust_df['perc_recurrent_charge']= cust_df['TotalRecurringCharge']/cust_df['MonthlyRevenue']\n",
    "    \n",
    "    #3.3 Percent of overage minutes over total monthly minutes\n",
    "    #type your code here to create a new column in cust_df\n",
    "    cust_df['perc_overage_minute'] = cust_df['OverageMinutes']/cust_df['MonthlyMinutes']\n",
    "    \n",
    "    #3.4 Percent of Roaming call minutes over total monthly minutes\n",
    "    cust_df['perc_Roaming_Calls'] = cust_df['RoamingCalls']/cust_df['MonthlyMinutes']\n",
    "    \n",
    "    #3.5 Percent of dropped call minutes over total monthly minutes\n",
    "    cust_df['perc_Dropped_Calls'] = cust_df['DroppedCalls']/cust_df['MonthlyMinutes']\n",
    "    \n",
    "    #3.6 Percent of Blockedcall minutes over total monthly minutes\n",
    "    cust_df['perc_Blocked_Calls'] = cust_df['DroppedCalls']/cust_df['MonthlyMinutes']\n",
    "    \n",
    "    #3.7 Percent of unansweredcall minutes over total monthly minutes\n",
    "    cust_df['perc_Unanswered_Calls'] = cust_df['UnansweredCalls']/cust_df['MonthlyMinutes']\n",
    "    \n",
    "    #3.8 Percent of customercarecall minutes over total monthly minutes\n",
    "    cust_df['perc_Customer_Care_Calls'] = cust_df['CustomerCareCalls']/cust_df['MonthlyMinutes']\n",
    "    \n",
    "    #3.9 Percent of Threewaycalls minutes over total monthly minutes\n",
    "    cust_df['perc_Threeway_Calls'] = cust_df['ThreewayCalls']/cust_df['MonthlyMinutes']\n",
    "    \n",
    "    #3.10 Percent of Receivedcall minutes over total monthly minutes\n",
    "    cust_df['perc_Received_Calls'] = cust_df['ReceivedCalls']/cust_df['MonthlyMinutes']\n",
    "    \n",
    "    #3.11 Percent of OutboundCalls minutes over total monthly minutes\n",
    "    cust_df['perc_Outbound_Calls'] = cust_df['OutboundCalls']/cust_df['MonthlyMinutes']\n",
    "    \n",
    "    #3.12 Percent of InboundCall minutes over total monthly minutes\n",
    "    cust_df['perc_Inbound_Calls'] = cust_df['InboundCalls']/cust_df['MonthlyMinutes']\n",
    "    \n",
    "    #3.13 percent of OffpeakcallsInOut minutes over total monthly minutes\n",
    "    cust_df['perc_OffPeakCalls_InOut'] = cust_df['OffPeakCallsInOut']/cust_df['MonthlyMinutes']\n",
    "    \n",
    "    #3.15 percent of peakcallsInOut minutes over total monthly minutes\n",
    "    cust_df['perc_PeakCalls_InOut'] = cust_df['PeakCallsInOut']/cust_df['MonthlyMinutes']\n",
    "    \n",
    "    #type your code here to creat any other additional features which you think will help improve your model accuracy\n",
    "    \n",
    "    \n",
    "    return cust_df  \n"
   ]
  },
  {
   "cell_type": "code",
   "execution_count": 85,
   "metadata": {
    "id": "aVqGUbRIlFIW"
   },
   "outputs": [],
   "source": [
    "#Make a call to the feature engineering wrapper function for churn prediction\n",
    "cust_df=create_features(cust_df)\n"
   ]
  },
  {
   "cell_type": "code",
   "execution_count": 86,
   "metadata": {},
   "outputs": [
    {
     "name": "stdout",
     "output_type": "stream",
     "text": [
      "<class 'pandas.core.frame.DataFrame'>\n",
      "Int64Index: 49064 entries, 0 to 51043\n",
      "Data columns (total 72 columns):\n",
      " #   Column                     Non-Null Count  Dtype  \n",
      "---  ------                     --------------  -----  \n",
      " 0   CustomerID                 49064 non-null  int64  \n",
      " 1   Churn                      49064 non-null  object \n",
      " 2   MonthlyRevenue             49064 non-null  float64\n",
      " 3   MonthlyMinutes             49064 non-null  float64\n",
      " 4   TotalRecurringCharge       49064 non-null  float64\n",
      " 5   DirectorAssistedCalls      49064 non-null  float64\n",
      " 6   OverageMinutes             49064 non-null  float64\n",
      " 7   RoamingCalls               49064 non-null  float64\n",
      " 8   PercChangeMinutes          49064 non-null  float64\n",
      " 9   PercChangeRevenues         49064 non-null  float64\n",
      " 10  DroppedCalls               49064 non-null  float64\n",
      " 11  BlockedCalls               49064 non-null  float64\n",
      " 12  UnansweredCalls            49064 non-null  float64\n",
      " 13  CustomerCareCalls          49064 non-null  float64\n",
      " 14  ThreewayCalls              49064 non-null  float64\n",
      " 15  ReceivedCalls              49064 non-null  float64\n",
      " 16  OutboundCalls              49064 non-null  float64\n",
      " 17  InboundCalls               49064 non-null  float64\n",
      " 18  PeakCallsInOut             49064 non-null  float64\n",
      " 19  OffPeakCallsInOut          49064 non-null  float64\n",
      " 20  DroppedBlockedCalls        49064 non-null  float64\n",
      " 21  CallForwardingCalls        49064 non-null  float64\n",
      " 22  CallWaitingCalls           49064 non-null  float64\n",
      " 23  MonthsInService            49064 non-null  int64  \n",
      " 24  UniqueSubs                 49064 non-null  int64  \n",
      " 25  ActiveSubs                 49064 non-null  int64  \n",
      " 26  ServiceArea                49064 non-null  object \n",
      " 27  Handsets                   49064 non-null  float64\n",
      " 28  HandsetModels              49064 non-null  float64\n",
      " 29  CurrentEquipmentDays       49064 non-null  float64\n",
      " 30  AgeHH1                     49064 non-null  float64\n",
      " 31  AgeHH2                     49064 non-null  float64\n",
      " 32  ChildrenInHH               49064 non-null  object \n",
      " 33  HandsetRefurbished         49064 non-null  object \n",
      " 34  HandsetWebCapable          49064 non-null  object \n",
      " 35  TruckOwner                 49064 non-null  object \n",
      " 36  RVOwner                    49064 non-null  object \n",
      " 37  Homeownership              49064 non-null  object \n",
      " 38  BuysViaMailOrder           49064 non-null  object \n",
      " 39  RespondsToMailOffers       49064 non-null  object \n",
      " 40  OptOutMailings             49064 non-null  object \n",
      " 41  NonUSTravel                49064 non-null  object \n",
      " 42  OwnsComputer               49064 non-null  object \n",
      " 43  HasCreditCard              49064 non-null  object \n",
      " 44  RetentionCalls             49064 non-null  int64  \n",
      " 45  RetentionOffersAccepted    49064 non-null  int64  \n",
      " 46  NewCellphoneUser           49064 non-null  object \n",
      " 47  NotNewCellphoneUser        49064 non-null  object \n",
      " 48  ReferralsMadeBySubscriber  49064 non-null  int64  \n",
      " 49  IncomeGroup                49064 non-null  int64  \n",
      " 50  OwnsMotorcycle             49064 non-null  object \n",
      " 51  AdjustmentsToCreditRating  49064 non-null  int64  \n",
      " 52  HandsetPrice               49064 non-null  object \n",
      " 53  MadeCallToRetentionTeam    49064 non-null  object \n",
      " 54  CreditRating               49064 non-null  object \n",
      " 55  PrizmCode                  49064 non-null  object \n",
      " 56  Occupation                 49064 non-null  object \n",
      " 57  MaritalStatus              49064 non-null  object \n",
      " 58  perc_active_subs           49064 non-null  float64\n",
      " 59  perc_recurrent_charge      49064 non-null  float64\n",
      " 60  perc_overage_minute        48399 non-null  float64\n",
      " 61  perc_Roaming_Calls         48404 non-null  float64\n",
      " 62  perc_Dropped_Calls         48409 non-null  float64\n",
      " 63  perc_Blocked_Calls         48409 non-null  float64\n",
      " 64  perc_Unanswered_Calls      48452 non-null  float64\n",
      " 65  perc_Customer_Care_Calls   48427 non-null  float64\n",
      " 66  perc_Threeway_Calls        48399 non-null  float64\n",
      " 67  perc_Received_Calls        48405 non-null  float64\n",
      " 68  perc_Outbound_Calls        48414 non-null  float64\n",
      " 69  perc_Inbound_Calls         48403 non-null  float64\n",
      " 70  perc_OffPeakCalls_InOut    48441 non-null  float64\n",
      " 71  perc_PeakCalls_InOut       48450 non-null  float64\n",
      "dtypes: float64(40), int64(9), object(23)\n",
      "memory usage: 27.3+ MB\n"
     ]
    }
   ],
   "source": [
    "cust_df.info()"
   ]
  },
  {
   "cell_type": "code",
   "execution_count": 87,
   "metadata": {},
   "outputs": [
    {
     "data": {
      "text/plain": [
       "['MonthlyRevenue',\n",
       " 'MonthlyMinutes',\n",
       " 'TotalRecurringCharge',\n",
       " 'DirectorAssistedCalls',\n",
       " 'OverageMinutes',\n",
       " 'RoamingCalls',\n",
       " 'PercChangeMinutes',\n",
       " 'PercChangeRevenues',\n",
       " 'DroppedCalls',\n",
       " 'BlockedCalls',\n",
       " 'UnansweredCalls',\n",
       " 'CustomerCareCalls',\n",
       " 'ThreewayCalls',\n",
       " 'ReceivedCalls',\n",
       " 'OutboundCalls',\n",
       " 'InboundCalls',\n",
       " 'PeakCallsInOut',\n",
       " 'OffPeakCallsInOut',\n",
       " 'DroppedBlockedCalls',\n",
       " 'CallForwardingCalls',\n",
       " 'CallWaitingCalls',\n",
       " 'MonthsInService',\n",
       " 'UniqueSubs',\n",
       " 'ActiveSubs',\n",
       " 'Handsets',\n",
       " 'HandsetModels',\n",
       " 'CurrentEquipmentDays',\n",
       " 'AgeHH1',\n",
       " 'AgeHH2',\n",
       " 'RetentionCalls',\n",
       " 'RetentionOffersAccepted',\n",
       " 'ReferralsMadeBySubscriber',\n",
       " 'IncomeGroup',\n",
       " 'AdjustmentsToCreditRating',\n",
       " 'perc_active_subs',\n",
       " 'perc_recurrent_charge',\n",
       " 'perc_overage_minute',\n",
       " 'perc_Roaming_Calls',\n",
       " 'perc_Dropped_Calls',\n",
       " 'perc_Blocked_Calls',\n",
       " 'perc_Unanswered_Calls',\n",
       " 'perc_Customer_Care_Calls',\n",
       " 'perc_Threeway_Calls',\n",
       " 'perc_Received_Calls',\n",
       " 'perc_Outbound_Calls',\n",
       " 'perc_Inbound_Calls',\n",
       " 'perc_OffPeakCalls_InOut',\n",
       " 'perc_PeakCalls_InOut']"
      ]
     },
     "execution_count": 87,
     "metadata": {},
     "output_type": "execute_result"
    },
    {
     "name": "stdout",
     "output_type": "stream",
     "text": [
      "['ChildrenInHH', 'HandsetRefurbished', 'HandsetWebCapable', 'TruckOwner', 'RVOwner', 'Homeownership', 'BuysViaMailOrder', 'RespondsToMailOffers', 'OptOutMailings', 'NonUSTravel', 'OwnsComputer', 'HasCreditCard', 'NewCellphoneUser', 'NotNewCellphoneUser', 'OwnsMotorcycle', 'HandsetPrice', 'MadeCallToRetentionTeam', 'CreditRating', 'PrizmCode', 'Occupation', 'MaritalStatus']\n"
     ]
    }
   ],
   "source": [
    "# Splitting the columns into categorical & numerical\n",
    "continuous_col = [i for i in cust_df.columns if cust_df[i].dtype != 'object' ]\n",
    "categorical_col = [m for m in cust_df.columns if cust_df[m].dtype == 'object']\n",
    "\n",
    "# Since 'Customer_ID', 'Churn'(target variable) and 'ServiceArea' columns are of no use in the data analysis. So it needs to be \n",
    "# eliminated from the lists\n",
    "continuous_col.remove('CustomerID')\n",
    "categorical_col.remove('ServiceArea')\n",
    "categorical_col.remove('Churn')\n",
    "\n",
    "continuous_col\n",
    "print(categorical_col)\n"
   ]
  },
  {
   "cell_type": "code",
   "execution_count": 88,
   "metadata": {},
   "outputs": [],
   "source": [
    "# Writing a function that does chi square test to validate whether the given categorical variable has an impact on Churn. It\n",
    "# helps to filter out categorical variable that has no impact on Churn.\n",
    "\n",
    "def check_categorical_imp(cust_df, categorical_col):\n",
    "    new_cat_column = []\n",
    "    for i in categorical_col:\n",
    "        if stats.chi2_contingency(pd.crosstab(cust_df.Churn, cust_df[i]))[1] > 0.05:\n",
    "            pass\n",
    "        else:\n",
    "            new_cat_column.append(i)\n",
    "    return new_cat_column"
   ]
  },
  {
   "cell_type": "code",
   "execution_count": 89,
   "metadata": {},
   "outputs": [],
   "source": [
    "categorical_col = check_categorical_imp(cust_df, categorical_col)"
   ]
  },
  {
   "cell_type": "code",
   "execution_count": 90,
   "metadata": {},
   "outputs": [
    {
     "data": {
      "text/plain": [
       "['MonthlyRevenue',\n",
       " 'MonthlyMinutes',\n",
       " 'TotalRecurringCharge',\n",
       " 'DirectorAssistedCalls',\n",
       " 'OverageMinutes',\n",
       " 'RoamingCalls',\n",
       " 'PercChangeMinutes',\n",
       " 'PercChangeRevenues',\n",
       " 'DroppedCalls',\n",
       " 'BlockedCalls',\n",
       " 'UnansweredCalls',\n",
       " 'CustomerCareCalls',\n",
       " 'ThreewayCalls',\n",
       " 'ReceivedCalls',\n",
       " 'OutboundCalls',\n",
       " 'InboundCalls',\n",
       " 'PeakCallsInOut',\n",
       " 'OffPeakCallsInOut',\n",
       " 'DroppedBlockedCalls',\n",
       " 'CallForwardingCalls',\n",
       " 'CallWaitingCalls',\n",
       " 'MonthsInService',\n",
       " 'UniqueSubs',\n",
       " 'ActiveSubs',\n",
       " 'Handsets',\n",
       " 'HandsetModels',\n",
       " 'CurrentEquipmentDays',\n",
       " 'AgeHH1',\n",
       " 'AgeHH2',\n",
       " 'RetentionCalls',\n",
       " 'RetentionOffersAccepted',\n",
       " 'ReferralsMadeBySubscriber',\n",
       " 'IncomeGroup',\n",
       " 'AdjustmentsToCreditRating',\n",
       " 'perc_active_subs',\n",
       " 'perc_recurrent_charge',\n",
       " 'perc_overage_minute',\n",
       " 'perc_Roaming_Calls',\n",
       " 'perc_Dropped_Calls',\n",
       " 'perc_Blocked_Calls',\n",
       " 'perc_Unanswered_Calls',\n",
       " 'perc_Customer_Care_Calls',\n",
       " 'perc_Threeway_Calls',\n",
       " 'perc_Received_Calls',\n",
       " 'perc_Outbound_Calls',\n",
       " 'perc_Inbound_Calls',\n",
       " 'perc_OffPeakCalls_InOut',\n",
       " 'perc_PeakCalls_InOut']"
      ]
     },
     "execution_count": 90,
     "metadata": {},
     "output_type": "execute_result"
    }
   ],
   "source": [
    "continuous_col"
   ]
  },
  {
   "cell_type": "code",
   "execution_count": 22,
   "metadata": {},
   "outputs": [
    {
     "data": {
      "text/plain": [
       "No     35016\n",
       "Yes    14048\n",
       "Name: Churn, dtype: int64"
      ]
     },
     "execution_count": 22,
     "metadata": {},
     "output_type": "execute_result"
    }
   ],
   "source": [
    "cust_df.Churn.value_counts()"
   ]
  },
  {
   "cell_type": "code",
   "execution_count": 91,
   "metadata": {},
   "outputs": [
    {
     "data": {
      "text/plain": [
       "1    50.0\n",
       "0    50.0\n",
       "Name: Churn, dtype: float64"
      ]
     },
     "execution_count": 91,
     "metadata": {},
     "output_type": "execute_result"
    }
   ],
   "source": [
    "cust_df['Churn'] = cust_df['Churn'].replace(['Yes', 'No'], [1, 0])\n",
    "class_count_0, class_count_1 = cust_df['Churn'].value_counts()\n",
    "\n",
    "class_0 = cust_df[cust_df['Churn'] == 0]\n",
    "class_1 = cust_df[cust_df['Churn'] == 1]\n",
    "\n",
    "class_1_over = class_1.sample(class_count_0, replace = True)\n",
    "test_over = pd.concat([class_1_over, class_0], axis = 0)\n",
    "\n",
    "cust_df = test_over\n",
    "y = cust_df.Churn\n",
    "(y.value_counts()/len(y))* 100"
   ]
  },
  {
   "cell_type": "code",
   "execution_count": 92,
   "metadata": {},
   "outputs": [],
   "source": [
    "imp_categorical_col = check_categorical_imp(cust_df, categorical_col)\n",
    "y = cust_df['Churn']\n",
    "X = cust_df[imp_categorical_col + continuous_col]"
   ]
  },
  {
   "cell_type": "code",
   "execution_count": 93,
   "metadata": {},
   "outputs": [
    {
     "data": {
      "text/plain": [
       "MonthlyRevenue               0.000000\n",
       "MonthlyMinutes               0.000000\n",
       "TotalRecurringCharge         0.000000\n",
       "DirectorAssistedCalls        0.000000\n",
       "OverageMinutes               0.000000\n",
       "RoamingCalls                 0.000000\n",
       "PercChangeMinutes            0.000000\n",
       "PercChangeRevenues           0.000000\n",
       "DroppedCalls                 0.000000\n",
       "BlockedCalls                 0.000000\n",
       "UnansweredCalls              0.000000\n",
       "CustomerCareCalls            0.000000\n",
       "ThreewayCalls                0.000000\n",
       "ReceivedCalls                0.000000\n",
       "OutboundCalls                0.000000\n",
       "InboundCalls                 0.000000\n",
       "PeakCallsInOut               0.000000\n",
       "OffPeakCallsInOut            0.000000\n",
       "DroppedBlockedCalls          0.000000\n",
       "CallForwardingCalls          0.000000\n",
       "CallWaitingCalls             0.000000\n",
       "MonthsInService              0.000000\n",
       "UniqueSubs                   0.000000\n",
       "ActiveSubs                   0.000000\n",
       "Handsets                     0.000000\n",
       "HandsetModels                0.000000\n",
       "CurrentEquipmentDays         0.000000\n",
       "AgeHH1                       0.000000\n",
       "AgeHH2                       0.000000\n",
       "RetentionCalls               0.000000\n",
       "RetentionOffersAccepted      0.000000\n",
       "ReferralsMadeBySubscriber    0.000000\n",
       "IncomeGroup                  0.000000\n",
       "AdjustmentsToCreditRating    0.000000\n",
       "perc_active_subs             0.000000\n",
       "perc_recurrent_charge        0.000000\n",
       "perc_overage_minute          1.800605\n",
       "perc_Roaming_Calls           1.787754\n",
       "perc_Dropped_Calls           1.773475\n",
       "perc_Blocked_Calls           1.773475\n",
       "perc_Unanswered_Calls        1.673521\n",
       "perc_Customer_Care_Calls     1.744917\n",
       "perc_Threeway_Calls          1.800605\n",
       "perc_Received_Calls          1.787754\n",
       "perc_Outbound_Calls          1.762052\n",
       "perc_Inbound_Calls           1.790610\n",
       "perc_OffPeakCalls_InOut      1.696367\n",
       "perc_PeakCalls_InOut         1.700651\n",
       "dtype: float64"
      ]
     },
     "execution_count": 93,
     "metadata": {},
     "output_type": "execute_result"
    }
   ],
   "source": [
    "(X[continuous_col].isnull().sum()/X.shape[0])* 100"
   ]
  },
  {
   "cell_type": "code",
   "execution_count": 94,
   "metadata": {},
   "outputs": [],
   "source": [
    "X['perc_overage_minute'].fillna(X['perc_overage_minute'].mean(), inplace = True)\n",
    "X['perc_Roaming_Calls'].fillna(X['perc_Roaming_Calls'].mean(), inplace = True)\n",
    "X['perc_Dropped_Calls'].fillna(X['perc_Dropped_Calls'].mean(), inplace = True)\n",
    "X['perc_Blocked_Calls'].fillna(X['perc_Blocked_Calls'].mean(), inplace = True)\n",
    "X['perc_Unanswered_Calls'].fillna(X['perc_Unanswered_Calls'].mean(), inplace = True)\n",
    "X['perc_Customer_Care_Calls'].fillna(X['perc_Customer_Care_Calls'].mean(), inplace = True)\n",
    "X['perc_Threeway_Calls'].fillna(X['perc_Threeway_Calls'].mean(), inplace = True)\n",
    "X['perc_Received_Calls'].fillna(X['perc_Received_Calls'].mean(), inplace = True)\n",
    "X['perc_Outbound_Calls'].fillna(X['perc_Outbound_Calls'].mean(), inplace = True)\n",
    "X['perc_Inbound_Calls'].fillna(X['perc_Inbound_Calls'].mean(), inplace = True)\n",
    "X['perc_OffPeakCalls_InOut'].fillna(X['perc_OffPeakCalls_InOut'].mean(), inplace = True)\n",
    "X['perc_PeakCalls_InOut'].fillna(X['perc_PeakCalls_InOut'].mean(), inplace = True)"
   ]
  },
  {
   "cell_type": "code",
   "execution_count": 95,
   "metadata": {},
   "outputs": [
    {
     "data": {
      "text/plain": [
       "HandsetRefurbished           0\n",
       "HandsetWebCapable            0\n",
       "Homeownership                0\n",
       "BuysViaMailOrder             0\n",
       "RespondsToMailOffers         0\n",
       "HasCreditCard                0\n",
       "HandsetPrice                 0\n",
       "MadeCallToRetentionTeam      0\n",
       "CreditRating                 0\n",
       "PrizmCode                    0\n",
       "MaritalStatus                0\n",
       "MonthlyRevenue               0\n",
       "MonthlyMinutes               0\n",
       "TotalRecurringCharge         0\n",
       "DirectorAssistedCalls        0\n",
       "OverageMinutes               0\n",
       "RoamingCalls                 0\n",
       "PercChangeMinutes            0\n",
       "PercChangeRevenues           0\n",
       "DroppedCalls                 0\n",
       "BlockedCalls                 0\n",
       "UnansweredCalls              0\n",
       "CustomerCareCalls            0\n",
       "ThreewayCalls                0\n",
       "ReceivedCalls                0\n",
       "OutboundCalls                0\n",
       "InboundCalls                 0\n",
       "PeakCallsInOut               0\n",
       "OffPeakCallsInOut            0\n",
       "DroppedBlockedCalls          0\n",
       "CallForwardingCalls          0\n",
       "CallWaitingCalls             0\n",
       "MonthsInService              0\n",
       "UniqueSubs                   0\n",
       "ActiveSubs                   0\n",
       "Handsets                     0\n",
       "HandsetModels                0\n",
       "CurrentEquipmentDays         0\n",
       "AgeHH1                       0\n",
       "AgeHH2                       0\n",
       "RetentionCalls               0\n",
       "RetentionOffersAccepted      0\n",
       "ReferralsMadeBySubscriber    0\n",
       "IncomeGroup                  0\n",
       "AdjustmentsToCreditRating    0\n",
       "perc_active_subs             0\n",
       "perc_recurrent_charge        0\n",
       "perc_overage_minute          0\n",
       "perc_Roaming_Calls           0\n",
       "perc_Dropped_Calls           0\n",
       "perc_Blocked_Calls           0\n",
       "perc_Unanswered_Calls        0\n",
       "perc_Customer_Care_Calls     0\n",
       "perc_Threeway_Calls          0\n",
       "perc_Received_Calls          0\n",
       "perc_Outbound_Calls          0\n",
       "perc_Inbound_Calls           0\n",
       "perc_OffPeakCalls_InOut      0\n",
       "perc_PeakCalls_InOut         0\n",
       "dtype: int64"
      ]
     },
     "execution_count": 95,
     "metadata": {},
     "output_type": "execute_result"
    }
   ],
   "source": [
    "X.isnull().sum()"
   ]
  },
  {
   "cell_type": "code",
   "execution_count": 96,
   "metadata": {},
   "outputs": [],
   "source": [
    "X[X==np.inf]=np.nan\n",
    "X.fillna(X.mean(), inplace=True)"
   ]
  },
  {
   "cell_type": "markdown",
   "metadata": {
    "id": "VE-kdD_YlFIX"
   },
   "source": [
    "## Q4. Build classification model to predict customer churn month in advance"
   ]
  },
  {
   "cell_type": "markdown",
   "metadata": {
    "id": "-EqcNv6rlFIX"
   },
   "source": [
    "### Initial data processing for model building exercise"
   ]
  },
  {
   "cell_type": "code",
   "execution_count": 97,
   "metadata": {
    "id": "pZlh5pYilFIX"
   },
   "outputs": [],
   "source": [
    "#Train - test split to train and test model accuracy\n",
    "from sklearn.model_selection import train_test_split\n",
    "\n",
    "#Define columns to be included in X and y\n",
    "# X = Independent variables\n",
    "# Y = Dependent variable (churn flag)\n",
    "\n",
    "X_train, X_test, y_train, y_test = train_test_split(X, y, test_size=0.3, random_state=0)\n",
    "\n",
    "#Feature scaling for all continuous variable\n",
    "from sklearn.preprocessing import StandardScaler\n",
    "sc = StandardScaler()\n",
    "X_train[continuous_col] = sc.fit_transform(X_train[continuous_col])\n",
    "\n",
    "#Create dummy variables for all categorical variables\n",
    "X_train = pd.get_dummies(X_train, columns = imp_categorical_col, drop_first = True)\n"
   ]
  },
  {
   "cell_type": "code",
   "execution_count": 98,
   "metadata": {},
   "outputs": [],
   "source": [
    "X_test[continuous_col] = sc.transform(X_test[continuous_col])\n",
    "\n",
    "#Create dummy variables for all categorical variables\n",
    "X_test = pd.get_dummies(X_test, columns = imp_categorical_col, drop_first = True)"
   ]
  },
  {
   "cell_type": "markdown",
   "metadata": {
    "id": "lj89clILlFIY"
   },
   "source": [
    "### Q4.1 Build a simple logistic regression model to predict churn and evaluate model accuracy on test data set\n"
   ]
  },
  {
   "cell_type": "code",
   "execution_count": 99,
   "metadata": {
    "id": "R3j70GX1lFIY"
   },
   "outputs": [],
   "source": [
    "#-------------------------------- Model training -------------------------------#\n",
    "\n",
    "#type your code to build logistic regression model on training data set\n",
    "from sklearn.linear_model import LogisticRegression\n",
    "from sklearn.metrics import accuracy_score, classification_report, confusion_matrix, roc_auc_score, f1_score, plot_confusion_matrix, average_precision_score\n",
    "\n",
    "log_c = LogisticRegression(random_state = 0).fit(X_train, y_train)\n",
    "log_pred_train_output = log_c.predict_proba(X_train)[:,1]"
   ]
  },
  {
   "cell_type": "code",
   "execution_count": 100,
   "metadata": {
    "id": "KlCdJ472lFIZ"
   },
   "outputs": [],
   "source": [
    "#-------------------------------- Model testing ---------------------------------#\n",
    "\n",
    "#type your code here to predict for X_test data set using the fitted model\n",
    "log_pred_test_output = log_c.predict_proba(X_test)[:,1]\n",
    "\n",
    "#Use a probability threshold to classify customers as churners and non churners (Default = 0.5)\n",
    "\n",
    "\n",
    "\n",
    "#Evaluate model accuracy using fitted y value and actual y_test\n",
    "#Evaluatio metrics to be used - GINI, Precision, Recall, confusion matrix\n",
    "\n",
    "\n"
   ]
  },
  {
   "cell_type": "code",
   "execution_count": 101,
   "metadata": {},
   "outputs": [],
   "source": [
    "import copy\n",
    "\n",
    "def best_cutoff(actual_value, predicted):\n",
    "    probability_cutoff = []\n",
    "    f1_score_value = []\n",
    "    \n",
    "    for i in range(0, 101):\n",
    "        predicted_x = copy.deepcopy(predicted)\n",
    "        predicted_x[predicted_x >= i/100] = 1\n",
    "        predicted_x[predicted_x < i/100] = 0\n",
    "        probability_cutoff.append(i/100)\n",
    "        f1_score_value.append(f1_score(actual_value, predicted_x))\n",
    "        \n",
    "    return(probability_cutoff, f1_score_value)"
   ]
  },
  {
   "cell_type": "code",
   "execution_count": 102,
   "metadata": {},
   "outputs": [
    {
     "data": {
      "text/plain": [
       "Text(0.5, 0, 'probability cutoff value train')"
      ]
     },
     "execution_count": 102,
     "metadata": {},
     "output_type": "execute_result"
    },
    {
     "data": {
      "text/plain": [
       "<matplotlib.lines.Line2D at 0x1c126a996a0>"
      ]
     },
     "execution_count": 102,
     "metadata": {},
     "output_type": "execute_result"
    },
    {
     "data": {
      "text/plain": [
       "Text(0, 0.5, 'f1_score train')"
      ]
     },
     "execution_count": 102,
     "metadata": {},
     "output_type": "execute_result"
    },
    {
     "data": {
      "text/plain": [
       "[<matplotlib.lines.Line2D at 0x1c127467c40>]"
      ]
     },
     "execution_count": 102,
     "metadata": {},
     "output_type": "execute_result"
    },
    {
     "data": {
      "image/png": "[encoded data removed]",
      "text/plain": [
       "<Figure size 432x288 with 1 Axes>"
      ]
     },
     "metadata": {
      "needs_background": "light"
     },
     "output_type": "display_data"
    },
    {
     "data": {
      "text/plain": [
       "<matplotlib.lines.Line2D at 0x1c1274c6ee0>"
      ]
     },
     "execution_count": 102,
     "metadata": {},
     "output_type": "execute_result"
    },
    {
     "data": {
      "text/plain": [
       "Text(0.5, 0, 'probability cutoff value test')"
      ]
     },
     "execution_count": 102,
     "metadata": {},
     "output_type": "execute_result"
    },
    {
     "data": {
      "text/plain": [
       "Text(0, 0.5, 'f1_score test')"
      ]
     },
     "execution_count": 102,
     "metadata": {},
     "output_type": "execute_result"
    },
    {
     "data": {
      "text/plain": [
       "[<matplotlib.lines.Line2D at 0x1c1274d3580>]"
      ]
     },
     "execution_count": 102,
     "metadata": {},
     "output_type": "execute_result"
    },
    {
     "data": {
      "image/png": "[encoded data removed]",
      "text/plain": [
       "<Figure size 432x288 with 1 Axes>"
      ]
     },
     "metadata": {
      "needs_background": "light"
     },
     "output_type": "display_data"
    }
   ],
   "source": [
    "probability_cutoff, f1_score_value = best_cutoff(y_train, log_pred_train_output)\n",
    "\n",
    "plt.xlabel('probability cutoff value train')\n",
    "plt.axvline(x =0.4, color ='b', label = 'axvline-full height')\n",
    "plt.ylabel('f1_score train')\n",
    "plt.plot(probability_cutoff, f1_score_value)\n",
    "plt.show()\n",
    "\n",
    "probability_cutoff, f1_score_value = best_cutoff(y_test, log_pred_test_output)\n",
    "\n",
    "plt.axvline(x = 0.4, color = 'b', label = 'axvline - full height')\n",
    "plt.xlabel('probability cutoff value test')\n",
    "plt.ylabel('f1_score test')\n",
    "plt.plot(probability_cutoff, f1_score_value)\n",
    "plt.show()"
   ]
  },
  {
   "cell_type": "code",
   "execution_count": 103,
   "metadata": {},
   "outputs": [
    {
     "name": "stdout",
     "output_type": "stream",
     "text": [
      "              precision    recall  f1-score   support\n",
      "\n",
      "           0       0.67      0.23      0.34     10610\n",
      "           1       0.53      0.88      0.66     10400\n",
      "\n",
      "    accuracy                           0.55     21010\n",
      "   macro avg       0.60      0.56      0.50     21010\n",
      "weighted avg       0.60      0.55      0.50     21010\n",
      "\n",
      "gini : 0.24712493656202428\n",
      "The ROC_AUC of logistic classifier for test data: 0.6235624682810121\n"
     ]
    },
    {
     "data": {
      "text/plain": [
       "array([[2426, 8184],\n",
       "       [1220, 9180]], dtype=int64)"
      ]
     },
     "execution_count": 103,
     "metadata": {},
     "output_type": "execute_result"
    },
    {
     "data": {
      "text/plain": [
       "(2426, 8184, 1220, 9180)"
      ]
     },
     "execution_count": 103,
     "metadata": {},
     "output_type": "execute_result"
    }
   ],
   "source": [
    "log_pred_test_output[log_pred_test_output < 0.4] = 0\n",
    "log_pred_test_output[log_pred_test_output >= 0.4] = 1\n",
    "\n",
    "print(classification_report(y_test, log_pred_test_output))\n",
    "auc = roc_auc_score(y_test, log_c.predict_proba(X_test)[:, 1])\n",
    "print(\"gini : {}\".format(2*auc - 1))\n",
    "print(\"The ROC_AUC of logistic classifier for test data: {}\".format(auc))\n",
    "confusion_matrix(y_test, log_pred_test_output)\n",
    "tn, fp, fn, tp = confusion_matrix(y_test, log_pred_test_output).ravel()\n",
    "tn, fp, fn, tp"
   ]
  },
  {
   "cell_type": "markdown",
   "metadata": {
    "id": "5c_9lNnclFIZ"
   },
   "source": [
    "### Q4.2 Build Random Forest classifier to compare model accuracy over the logistic regression model\n"
   ]
  },
  {
   "cell_type": "code",
   "execution_count": 104,
   "metadata": {
    "id": "-PqkT3eRlFIa"
   },
   "outputs": [
    {
     "data": {
      "text/plain": [
       "RandomForestClassifier(criterion='entropy', max_depth=15, min_samples_split=50,\n",
       "                       n_estimators=400, n_jobs=-1, random_state=12345)"
      ]
     },
     "execution_count": 104,
     "metadata": {},
     "output_type": "execute_result"
    }
   ],
   "source": [
    "#-------------------------------- Model training -------------------------------#\n",
    "\n",
    "#type your code to build random forest classifier model on training data set\n",
    "from sklearn.ensemble import RandomForestClassifier\n",
    "\n",
    "rf_c = RandomForestClassifier(max_depth = 15, min_samples_split = 50, random_state = 12345, criterion ='entropy', n_estimators = 400, n_jobs = -1)\n",
    "rf_c.fit(X_train, y_train)\n",
    "rf_pred_train_output = rf_c.predict_proba(X_train)[:,1]\n",
    "\n",
    "\n"
   ]
  },
  {
   "cell_type": "code",
   "execution_count": 105,
   "metadata": {
    "id": "yoMJOpkvlFIa"
   },
   "outputs": [],
   "source": [
    "#-------------------------------- Model testing ---------------------------------#\n",
    "\n",
    "#type your code here to predict for X_test data set using the fitted RF model\n",
    "rf_pred_test_output = rf_c.predict_proba(X_test)[:,1]\n",
    "\n",
    "#Use a probability threshold to classify customers as churners and non churners (Default = 0.5)\n",
    "\n",
    "\n",
    "\n",
    "#Evaluate model accuracy using fitted y value and actual y_test\n",
    "#Evaluatio metrics to be used - GINI, Precision, Recall, confusion matrix\n",
    "\n"
   ]
  },
  {
   "cell_type": "code",
   "execution_count": 106,
   "metadata": {},
   "outputs": [
    {
     "data": {
      "text/plain": [
       "Text(0.5, 0, 'probability cutoff value train')"
      ]
     },
     "execution_count": 106,
     "metadata": {},
     "output_type": "execute_result"
    },
    {
     "data": {
      "text/plain": [
       "<matplotlib.lines.Line2D at 0x1c1293004f0>"
      ]
     },
     "execution_count": 106,
     "metadata": {},
     "output_type": "execute_result"
    },
    {
     "data": {
      "text/plain": [
       "Text(0, 0.5, 'f1_score train')"
      ]
     },
     "execution_count": 106,
     "metadata": {},
     "output_type": "execute_result"
    },
    {
     "data": {
      "text/plain": [
       "[<matplotlib.lines.Line2D at 0x1c12806cca0>]"
      ]
     },
     "execution_count": 106,
     "metadata": {},
     "output_type": "execute_result"
    },
    {
     "data": {
      "image/png": "[encoded data removed]",
      "text/plain": [
       "<Figure size 432x288 with 1 Axes>"
      ]
     },
     "metadata": {
      "needs_background": "light"
     },
     "output_type": "display_data"
    },
    {
     "data": {
      "text/plain": [
       "<matplotlib.lines.Line2D at 0x1c1280c95b0>"
      ]
     },
     "execution_count": 106,
     "metadata": {},
     "output_type": "execute_result"
    },
    {
     "data": {
      "text/plain": [
       "Text(0.5, 0, 'probability cutoff value test')"
      ]
     },
     "execution_count": 106,
     "metadata": {},
     "output_type": "execute_result"
    },
    {
     "data": {
      "text/plain": [
       "Text(0, 0.5, 'f1_score test')"
      ]
     },
     "execution_count": 106,
     "metadata": {},
     "output_type": "execute_result"
    },
    {
     "data": {
      "text/plain": [
       "[<matplotlib.lines.Line2D at 0x1c1280c9c10>]"
      ]
     },
     "execution_count": 106,
     "metadata": {},
     "output_type": "execute_result"
    },
    {
     "data": {
      "image/png": "[encoded data removed]",
      "text/plain": [
       "<Figure size 432x288 with 1 Axes>"
      ]
     },
     "metadata": {
      "needs_background": "light"
     },
     "output_type": "display_data"
    }
   ],
   "source": [
    "probability_cutoff, f1_score_value = best_cutoff(y_train, rf_pred_train_output)\n",
    "\n",
    "plt.xlabel('probability cutoff value train')\n",
    "plt.axvline(x =0.5, color ='b', label = 'axvline-full height')\n",
    "plt.ylabel('f1_score train')\n",
    "plt.plot(probability_cutoff, f1_score_value)\n",
    "plt.show()\n",
    "\n",
    "probability_cutoff, f1_score_value = best_cutoff(y_test, rf_pred_test_output)\n",
    "\n",
    "plt.axvline(x = 0.5, color = 'b', label = 'axvline - full height')\n",
    "plt.xlabel('probability cutoff value test')\n",
    "plt.ylabel('f1_score test')\n",
    "plt.plot(probability_cutoff, f1_score_value)\n",
    "plt.show()"
   ]
  },
  {
   "cell_type": "code",
   "execution_count": 107,
   "metadata": {},
   "outputs": [
    {
     "name": "stdout",
     "output_type": "stream",
     "text": [
      "              precision    recall  f1-score   support\n",
      "\n",
      "           0       0.76      0.66      0.71     10610\n",
      "           1       0.70      0.79      0.74     10400\n",
      "\n",
      "    accuracy                           0.73     21010\n",
      "   macro avg       0.73      0.73      0.73     21010\n",
      "weighted avg       0.73      0.73      0.73     21010\n",
      "\n",
      "gini : 0.6309182737620533\n",
      "The ROC_AUC of RandomForest classifier for test data: 0.8154591368810267\n"
     ]
    },
    {
     "data": {
      "text/plain": [
       "array([[7037, 3573],\n",
       "       [2182, 8218]], dtype=int64)"
      ]
     },
     "execution_count": 107,
     "metadata": {},
     "output_type": "execute_result"
    },
    {
     "data": {
      "text/plain": [
       "(7037, 3573, 2182, 8218)"
      ]
     },
     "execution_count": 107,
     "metadata": {},
     "output_type": "execute_result"
    }
   ],
   "source": [
    "rf_pred_test_output[rf_pred_test_output < 0.5] = 0\n",
    "rf_pred_test_output[rf_pred_test_output >= 0.5] = 1\n",
    "\n",
    "print(classification_report(y_test, rf_pred_test_output))\n",
    "auc = roc_auc_score(y_test, rf_c.predict_proba(X_test)[:, 1])\n",
    "print(\"gini : {}\".format(2*auc - 1))\n",
    "print(\"The ROC_AUC of RandomForest classifier for test data: {}\".format(auc))\n",
    "confusion_matrix(y_test, rf_pred_test_output)\n",
    "tn, fp, fn, tp = confusion_matrix(y_test, rf_pred_test_output).ravel()\n",
    "tn, fp, fn, tp"
   ]
  },
  {
   "cell_type": "markdown",
   "metadata": {
    "id": "iKAR6bUolFIb"
   },
   "source": [
    "<mark>__Result:__\n",
    "    \n",
    "Type your answer from the model building exercise here, i.e., which model has better accuracy and using what metrics?"
   ]
  },
  {
   "cell_type": "code",
   "execution_count": 115,
   "metadata": {},
   "outputs": [],
   "source": [
    "# Random Forest Classifier has better accuracy than Logistic Regression. It has better ROC_AUC score than Logistic Regression.\n",
    "# Classification report shows greater number of true positives & true negatives than Logistic Regression."
   ]
  },
  {
   "cell_type": "markdown",
   "metadata": {
    "id": "AixoKv9GlFIb"
   },
   "source": [
    "### Q4.3 Identify most important features impacting churn"
   ]
  },
  {
   "cell_type": "code",
   "execution_count": 108,
   "metadata": {
    "id": "k4T4iPJilFIc"
   },
   "outputs": [
    {
     "data": {
      "text/plain": [
       "<Figure size 360x720 with 0 Axes>"
      ]
     },
     "execution_count": 108,
     "metadata": {},
     "output_type": "execute_result"
    },
    {
     "data": {
      "text/plain": [
       "Text(0.5, 1.0, 'feature importance plot')"
      ]
     },
     "execution_count": 108,
     "metadata": {},
     "output_type": "execute_result"
    },
    {
     "data": {
      "text/plain": [
       "<AxesSubplot:title={'center':'feature importance plot'}>"
      ]
     },
     "execution_count": 108,
     "metadata": {},
     "output_type": "execute_result"
    },
    {
     "data": {
      "image/png": "[encoded data removed]",
      "text/plain": [
       "<Figure size 360x720 with 1 Axes>"
      ]
     },
     "metadata": {
      "needs_background": "light"
     },
     "output_type": "display_data"
    }
   ],
   "source": [
    "# Type your code here to plot the top 20 important predictor features impacting churn using the Random Forest model created\n",
    "\n",
    "feature_importance = pd.Series(rf_c.feature_importances_, index=X_train.columns)\n",
    "plt.figure(figsize = (5, 10))\n",
    "plt.title(\"feature importance plot\")\n",
    "feature_importance.nlargest(20).sort_values(ascending = True).plot(kind = 'barh')"
   ]
  },
  {
   "cell_type": "markdown",
   "metadata": {
    "id": "b34fvkuvlFId"
   },
   "source": [
    "## Q5. Use the hold out data provided to predict churners using the best model identified in step 4 "
   ]
  },
  {
   "cell_type": "code",
   "execution_count": 109,
   "metadata": {
    "id": "inhr0oBulFIe"
   },
   "outputs": [
    {
     "data": {
      "text/plain": [
       "CustomerID                       0\n",
       "Churn                        20000\n",
       "MonthlyRevenue                  60\n",
       "MonthlyMinutes                  60\n",
       "TotalRecurringCharge            60\n",
       "DirectorAssistedCalls           60\n",
       "OverageMinutes                  60\n",
       "RoamingCalls                    60\n",
       "PercChangeMinutes              135\n",
       "PercChangeRevenues             135\n",
       "DroppedCalls                     0\n",
       "BlockedCalls                     0\n",
       "UnansweredCalls                  0\n",
       "CustomerCareCalls                0\n",
       "ThreewayCalls                    0\n",
       "ReceivedCalls                    0\n",
       "OutboundCalls                    0\n",
       "InboundCalls                     0\n",
       "PeakCallsInOut                   0\n",
       "OffPeakCallsInOut                0\n",
       "DroppedBlockedCalls              0\n",
       "CallForwardingCalls              0\n",
       "CallWaitingCalls                 0\n",
       "MonthsInService                  0\n",
       "UniqueSubs                       0\n",
       "ActiveSubs                       0\n",
       "ServiceArea                      4\n",
       "Handsets                         0\n",
       "HandsetModels                    0\n",
       "CurrentEquipmentDays             0\n",
       "AgeHH1                         335\n",
       "AgeHH2                         335\n",
       "ChildrenInHH                     0\n",
       "HandsetRefurbished               0\n",
       "HandsetWebCapable                0\n",
       "TruckOwner                       0\n",
       "RVOwner                          0\n",
       "Homeownership                    0\n",
       "BuysViaMailOrder                 0\n",
       "RespondsToMailOffers             0\n",
       "OptOutMailings                   0\n",
       "NonUSTravel                      0\n",
       "OwnsComputer                     0\n",
       "HasCreditCard                    0\n",
       "RetentionCalls                   0\n",
       "RetentionOffersAccepted          0\n",
       "NewCellphoneUser                 0\n",
       "NotNewCellphoneUser              0\n",
       "ReferralsMadeBySubscriber        0\n",
       "IncomeGroup                      0\n",
       "OwnsMotorcycle                   0\n",
       "AdjustmentsToCreditRating        0\n",
       "HandsetPrice                     0\n",
       "MadeCallToRetentionTeam          0\n",
       "CreditRating                     0\n",
       "PrizmCode                        0\n",
       "Occupation                       0\n",
       "MaritalStatus                    0\n",
       "dtype: int64"
      ]
     },
     "execution_count": 109,
     "metadata": {},
     "output_type": "execute_result"
    }
   ],
   "source": [
    "#Type your code here to predict churners based on the hold out data set provided\n",
    "#Note #1: use \"create_features(cust_df)\" functions to create the additional list of features in the hold out data set\n",
    "#Note #2: Also, perform feature scaling and dummy variables creation as performed during the initial stages of step #4\n",
    "final_df = pd.read_csv('Telecom - Prediction Data.csv')\n",
    "\n",
    "#Use \"predict\" function on the transformend data using the best fitted model object\n",
    "\n",
    "final_df.isnull().sum()"
   ]
  },
  {
   "cell_type": "code",
   "execution_count": 110,
   "metadata": {},
   "outputs": [
    {
     "data": {
      "text/plain": [
       "CustomerID                     0.000\n",
       "Churn                        100.000\n",
       "MonthlyRevenue                 0.300\n",
       "MonthlyMinutes                 0.300\n",
       "TotalRecurringCharge           0.300\n",
       "DirectorAssistedCalls          0.300\n",
       "OverageMinutes                 0.300\n",
       "RoamingCalls                   0.300\n",
       "PercChangeMinutes              0.675\n",
       "PercChangeRevenues             0.675\n",
       "DroppedCalls                   0.000\n",
       "BlockedCalls                   0.000\n",
       "UnansweredCalls                0.000\n",
       "CustomerCareCalls              0.000\n",
       "ThreewayCalls                  0.000\n",
       "ReceivedCalls                  0.000\n",
       "OutboundCalls                  0.000\n",
       "InboundCalls                   0.000\n",
       "PeakCallsInOut                 0.000\n",
       "OffPeakCallsInOut              0.000\n",
       "DroppedBlockedCalls            0.000\n",
       "CallForwardingCalls            0.000\n",
       "CallWaitingCalls               0.000\n",
       "MonthsInService                0.000\n",
       "UniqueSubs                     0.000\n",
       "ActiveSubs                     0.000\n",
       "ServiceArea                    0.020\n",
       "Handsets                       0.000\n",
       "HandsetModels                  0.000\n",
       "CurrentEquipmentDays           0.000\n",
       "AgeHH1                         1.675\n",
       "AgeHH2                         1.675\n",
       "ChildrenInHH                   0.000\n",
       "HandsetRefurbished             0.000\n",
       "HandsetWebCapable              0.000\n",
       "TruckOwner                     0.000\n",
       "RVOwner                        0.000\n",
       "Homeownership                  0.000\n",
       "BuysViaMailOrder               0.000\n",
       "RespondsToMailOffers           0.000\n",
       "OptOutMailings                 0.000\n",
       "NonUSTravel                    0.000\n",
       "OwnsComputer                   0.000\n",
       "HasCreditCard                  0.000\n",
       "RetentionCalls                 0.000\n",
       "RetentionOffersAccepted        0.000\n",
       "NewCellphoneUser               0.000\n",
       "NotNewCellphoneUser            0.000\n",
       "ReferralsMadeBySubscriber      0.000\n",
       "IncomeGroup                    0.000\n",
       "OwnsMotorcycle                 0.000\n",
       "AdjustmentsToCreditRating      0.000\n",
       "HandsetPrice                   0.000\n",
       "MadeCallToRetentionTeam        0.000\n",
       "CreditRating                   0.000\n",
       "PrizmCode                      0.000\n",
       "Occupation                     0.000\n",
       "MaritalStatus                  0.000\n",
       "dtype: float64"
      ]
     },
     "execution_count": 110,
     "metadata": {},
     "output_type": "execute_result"
    }
   ],
   "source": [
    "(final_df.isnull().sum()/final_df.shape[0])*100"
   ]
  },
  {
   "cell_type": "code",
   "execution_count": 111,
   "metadata": {},
   "outputs": [],
   "source": [
    "Xf = final_df.drop(columns = ['CustomerID', 'Churn'])\n",
    "yf = final_df['Churn']"
   ]
  },
  {
   "cell_type": "code",
   "execution_count": 112,
   "metadata": {},
   "outputs": [],
   "source": [
    "cont_col = [i for i in Xf.columns if Xf[i].dtype != 'object' ]\n",
    "cat_col = [m for m in Xf.columns if Xf[m].dtype == 'object']"
   ]
  },
  {
   "cell_type": "code",
   "execution_count": 115,
   "metadata": {},
   "outputs": [],
   "source": [
    "Xf = create_features(Xf)"
   ]
  },
  {
   "cell_type": "code",
   "execution_count": 116,
   "metadata": {},
   "outputs": [
    {
     "name": "stdout",
     "output_type": "stream",
     "text": [
      "<class 'pandas.core.frame.DataFrame'>\n",
      "RangeIndex: 20000 entries, 0 to 19999\n",
      "Data columns (total 70 columns):\n",
      " #   Column                     Non-Null Count  Dtype  \n",
      "---  ------                     --------------  -----  \n",
      " 0   MonthlyRevenue             19940 non-null  float64\n",
      " 1   MonthlyMinutes             19940 non-null  float64\n",
      " 2   TotalRecurringCharge       19940 non-null  float64\n",
      " 3   DirectorAssistedCalls      19940 non-null  float64\n",
      " 4   OverageMinutes             19940 non-null  float64\n",
      " 5   RoamingCalls               19940 non-null  float64\n",
      " 6   PercChangeMinutes          19865 non-null  float64\n",
      " 7   PercChangeRevenues         19865 non-null  float64\n",
      " 8   DroppedCalls               20000 non-null  float64\n",
      " 9   BlockedCalls               20000 non-null  float64\n",
      " 10  UnansweredCalls            20000 non-null  float64\n",
      " 11  CustomerCareCalls          20000 non-null  float64\n",
      " 12  ThreewayCalls              20000 non-null  float64\n",
      " 13  ReceivedCalls              20000 non-null  float64\n",
      " 14  OutboundCalls              20000 non-null  float64\n",
      " 15  InboundCalls               20000 non-null  float64\n",
      " 16  PeakCallsInOut             20000 non-null  float64\n",
      " 17  OffPeakCallsInOut          20000 non-null  float64\n",
      " 18  DroppedBlockedCalls        20000 non-null  float64\n",
      " 19  CallForwardingCalls        20000 non-null  float64\n",
      " 20  CallWaitingCalls           20000 non-null  float64\n",
      " 21  MonthsInService            20000 non-null  int64  \n",
      " 22  UniqueSubs                 20000 non-null  int64  \n",
      " 23  ActiveSubs                 20000 non-null  int64  \n",
      " 24  ServiceArea                19996 non-null  object \n",
      " 25  Handsets                   20000 non-null  int64  \n",
      " 26  HandsetModels              20000 non-null  int64  \n",
      " 27  CurrentEquipmentDays       20000 non-null  int64  \n",
      " 28  AgeHH1                     19665 non-null  float64\n",
      " 29  AgeHH2                     19665 non-null  float64\n",
      " 30  ChildrenInHH               20000 non-null  object \n",
      " 31  HandsetRefurbished         20000 non-null  object \n",
      " 32  HandsetWebCapable          20000 non-null  object \n",
      " 33  TruckOwner                 20000 non-null  object \n",
      " 34  RVOwner                    20000 non-null  object \n",
      " 35  Homeownership              20000 non-null  object \n",
      " 36  BuysViaMailOrder           20000 non-null  object \n",
      " 37  RespondsToMailOffers       20000 non-null  object \n",
      " 38  OptOutMailings             20000 non-null  object \n",
      " 39  NonUSTravel                20000 non-null  object \n",
      " 40  OwnsComputer               20000 non-null  object \n",
      " 41  HasCreditCard              20000 non-null  object \n",
      " 42  RetentionCalls             20000 non-null  int64  \n",
      " 43  RetentionOffersAccepted    20000 non-null  int64  \n",
      " 44  NewCellphoneUser           20000 non-null  object \n",
      " 45  NotNewCellphoneUser        20000 non-null  object \n",
      " 46  ReferralsMadeBySubscriber  20000 non-null  int64  \n",
      " 47  IncomeGroup                20000 non-null  int64  \n",
      " 48  OwnsMotorcycle             20000 non-null  object \n",
      " 49  AdjustmentsToCreditRating  20000 non-null  int64  \n",
      " 50  HandsetPrice               20000 non-null  object \n",
      " 51  MadeCallToRetentionTeam    20000 non-null  object \n",
      " 52  CreditRating               20000 non-null  object \n",
      " 53  PrizmCode                  20000 non-null  object \n",
      " 54  Occupation                 20000 non-null  object \n",
      " 55  MaritalStatus              20000 non-null  object \n",
      " 56  perc_active_subs           20000 non-null  float64\n",
      " 57  perc_recurrent_charge      19938 non-null  float64\n",
      " 58  perc_overage_minute        19646 non-null  float64\n",
      " 59  perc_Roaming_Calls         19649 non-null  float64\n",
      " 60  perc_Dropped_Calls         19652 non-null  float64\n",
      " 61  perc_Blocked_Calls         19652 non-null  float64\n",
      " 62  perc_Unanswered_Calls      19679 non-null  float64\n",
      " 63  perc_Customer_Care_Calls   19659 non-null  float64\n",
      " 64  perc_Threeway_Calls        19647 non-null  float64\n",
      " 65  perc_Received_Calls        19649 non-null  float64\n",
      " 66  perc_Outbound_Calls        19652 non-null  float64\n",
      " 67  perc_Inbound_Calls         19647 non-null  float64\n",
      " 68  perc_OffPeakCalls_InOut    19665 non-null  float64\n",
      " 69  perc_PeakCalls_InOut       19664 non-null  float64\n",
      "dtypes: float64(37), int64(11), object(22)\n",
      "memory usage: 10.7+ MB\n"
     ]
    }
   ],
   "source": [
    "Xf.info()"
   ]
  },
  {
   "cell_type": "code",
   "execution_count": 117,
   "metadata": {},
   "outputs": [],
   "source": [
    "Xf.fillna(Xf.mean(), inplace = True)"
   ]
  },
  {
   "cell_type": "code",
   "execution_count": 118,
   "metadata": {},
   "outputs": [],
   "source": [
    "Xf.drop(columns = ['ServiceArea'], inplace = True)"
   ]
  },
  {
   "cell_type": "code",
   "execution_count": 119,
   "metadata": {},
   "outputs": [
    {
     "name": "stdout",
     "output_type": "stream",
     "text": [
      "<class 'pandas.core.frame.DataFrame'>\n",
      "RangeIndex: 20000 entries, 0 to 19999\n",
      "Data columns (total 69 columns):\n",
      " #   Column                     Non-Null Count  Dtype  \n",
      "---  ------                     --------------  -----  \n",
      " 0   MonthlyRevenue             20000 non-null  float64\n",
      " 1   MonthlyMinutes             20000 non-null  float64\n",
      " 2   TotalRecurringCharge       20000 non-null  float64\n",
      " 3   DirectorAssistedCalls      20000 non-null  float64\n",
      " 4   OverageMinutes             20000 non-null  float64\n",
      " 5   RoamingCalls               20000 non-null  float64\n",
      " 6   PercChangeMinutes          20000 non-null  float64\n",
      " 7   PercChangeRevenues         20000 non-null  float64\n",
      " 8   DroppedCalls               20000 non-null  float64\n",
      " 9   BlockedCalls               20000 non-null  float64\n",
      " 10  UnansweredCalls            20000 non-null  float64\n",
      " 11  CustomerCareCalls          20000 non-null  float64\n",
      " 12  ThreewayCalls              20000 non-null  float64\n",
      " 13  ReceivedCalls              20000 non-null  float64\n",
      " 14  OutboundCalls              20000 non-null  float64\n",
      " 15  InboundCalls               20000 non-null  float64\n",
      " 16  PeakCallsInOut             20000 non-null  float64\n",
      " 17  OffPeakCallsInOut          20000 non-null  float64\n",
      " 18  DroppedBlockedCalls        20000 non-null  float64\n",
      " 19  CallForwardingCalls        20000 non-null  float64\n",
      " 20  CallWaitingCalls           20000 non-null  float64\n",
      " 21  MonthsInService            20000 non-null  int64  \n",
      " 22  UniqueSubs                 20000 non-null  int64  \n",
      " 23  ActiveSubs                 20000 non-null  int64  \n",
      " 24  Handsets                   20000 non-null  int64  \n",
      " 25  HandsetModels              20000 non-null  int64  \n",
      " 26  CurrentEquipmentDays       20000 non-null  int64  \n",
      " 27  AgeHH1                     20000 non-null  float64\n",
      " 28  AgeHH2                     20000 non-null  float64\n",
      " 29  ChildrenInHH               20000 non-null  object \n",
      " 30  HandsetRefurbished         20000 non-null  object \n",
      " 31  HandsetWebCapable          20000 non-null  object \n",
      " 32  TruckOwner                 20000 non-null  object \n",
      " 33  RVOwner                    20000 non-null  object \n",
      " 34  Homeownership              20000 non-null  object \n",
      " 35  BuysViaMailOrder           20000 non-null  object \n",
      " 36  RespondsToMailOffers       20000 non-null  object \n",
      " 37  OptOutMailings             20000 non-null  object \n",
      " 38  NonUSTravel                20000 non-null  object \n",
      " 39  OwnsComputer               20000 non-null  object \n",
      " 40  HasCreditCard              20000 non-null  object \n",
      " 41  RetentionCalls             20000 non-null  int64  \n",
      " 42  RetentionOffersAccepted    20000 non-null  int64  \n",
      " 43  NewCellphoneUser           20000 non-null  object \n",
      " 44  NotNewCellphoneUser        20000 non-null  object \n",
      " 45  ReferralsMadeBySubscriber  20000 non-null  int64  \n",
      " 46  IncomeGroup                20000 non-null  int64  \n",
      " 47  OwnsMotorcycle             20000 non-null  object \n",
      " 48  AdjustmentsToCreditRating  20000 non-null  int64  \n",
      " 49  HandsetPrice               20000 non-null  object \n",
      " 50  MadeCallToRetentionTeam    20000 non-null  object \n",
      " 51  CreditRating               20000 non-null  object \n",
      " 52  PrizmCode                  20000 non-null  object \n",
      " 53  Occupation                 20000 non-null  object \n",
      " 54  MaritalStatus              20000 non-null  object \n",
      " 55  perc_active_subs           20000 non-null  float64\n",
      " 56  perc_recurrent_charge      20000 non-null  float64\n",
      " 57  perc_overage_minute        20000 non-null  float64\n",
      " 58  perc_Roaming_Calls         20000 non-null  float64\n",
      " 59  perc_Dropped_Calls         20000 non-null  float64\n",
      " 60  perc_Blocked_Calls         20000 non-null  float64\n",
      " 61  perc_Unanswered_Calls      20000 non-null  float64\n",
      " 62  perc_Customer_Care_Calls   20000 non-null  float64\n",
      " 63  perc_Threeway_Calls        20000 non-null  float64\n",
      " 64  perc_Received_Calls        20000 non-null  float64\n",
      " 65  perc_Outbound_Calls        20000 non-null  float64\n",
      " 66  perc_Inbound_Calls         20000 non-null  float64\n",
      " 67  perc_OffPeakCalls_InOut    20000 non-null  float64\n",
      " 68  perc_PeakCalls_InOut       20000 non-null  float64\n",
      "dtypes: float64(37), int64(11), object(21)\n",
      "memory usage: 10.5+ MB\n"
     ]
    }
   ],
   "source": [
    "Xf.info()"
   ]
  },
  {
   "cell_type": "code",
   "execution_count": 120,
   "metadata": {},
   "outputs": [],
   "source": [
    "cat_col.remove('ServiceArea')"
   ]
  },
  {
   "cell_type": "code",
   "execution_count": 123,
   "metadata": {},
   "outputs": [],
   "source": [
    "Xf[cont_col] = sc.fit_transform(Xf[cont_col])\n",
    "\n",
    "#Create dummy variables for all categorical variables\n",
    "Xf = pd.get_dummies(Xf, columns = cat_col, drop_first = True)"
   ]
  },
  {
   "cell_type": "code",
   "execution_count": 124,
   "metadata": {},
   "outputs": [
    {
     "name": "stdout",
     "output_type": "stream",
     "text": [
      "<class 'pandas.core.frame.DataFrame'>\n",
      "RangeIndex: 20000 entries, 0 to 19999\n",
      "Data columns (total 97 columns):\n",
      " #   Column                       Non-Null Count  Dtype  \n",
      "---  ------                       --------------  -----  \n",
      " 0   MonthlyRevenue               20000 non-null  float64\n",
      " 1   MonthlyMinutes               20000 non-null  float64\n",
      " 2   TotalRecurringCharge         20000 non-null  float64\n",
      " 3   DirectorAssistedCalls        20000 non-null  float64\n",
      " 4   OverageMinutes               20000 non-null  float64\n",
      " 5   RoamingCalls                 20000 non-null  float64\n",
      " 6   PercChangeMinutes            20000 non-null  float64\n",
      " 7   PercChangeRevenues           20000 non-null  float64\n",
      " 8   DroppedCalls                 20000 non-null  float64\n",
      " 9   BlockedCalls                 20000 non-null  float64\n",
      " 10  UnansweredCalls              20000 non-null  float64\n",
      " 11  CustomerCareCalls            20000 non-null  float64\n",
      " 12  ThreewayCalls                20000 non-null  float64\n",
      " 13  ReceivedCalls                20000 non-null  float64\n",
      " 14  OutboundCalls                20000 non-null  float64\n",
      " 15  InboundCalls                 20000 non-null  float64\n",
      " 16  PeakCallsInOut               20000 non-null  float64\n",
      " 17  OffPeakCallsInOut            20000 non-null  float64\n",
      " 18  DroppedBlockedCalls          20000 non-null  float64\n",
      " 19  CallForwardingCalls          20000 non-null  float64\n",
      " 20  CallWaitingCalls             20000 non-null  float64\n",
      " 21  MonthsInService              20000 non-null  float64\n",
      " 22  UniqueSubs                   20000 non-null  float64\n",
      " 23  ActiveSubs                   20000 non-null  float64\n",
      " 24  Handsets                     20000 non-null  float64\n",
      " 25  HandsetModels                20000 non-null  float64\n",
      " 26  CurrentEquipmentDays         20000 non-null  float64\n",
      " 27  AgeHH1                       20000 non-null  float64\n",
      " 28  AgeHH2                       20000 non-null  float64\n",
      " 29  RetentionCalls               20000 non-null  float64\n",
      " 30  RetentionOffersAccepted      20000 non-null  float64\n",
      " 31  ReferralsMadeBySubscriber    20000 non-null  float64\n",
      " 32  IncomeGroup                  20000 non-null  float64\n",
      " 33  AdjustmentsToCreditRating    20000 non-null  float64\n",
      " 34  perc_active_subs             20000 non-null  float64\n",
      " 35  perc_recurrent_charge        20000 non-null  float64\n",
      " 36  perc_overage_minute          20000 non-null  float64\n",
      " 37  perc_Roaming_Calls           20000 non-null  float64\n",
      " 38  perc_Dropped_Calls           20000 non-null  float64\n",
      " 39  perc_Blocked_Calls           20000 non-null  float64\n",
      " 40  perc_Unanswered_Calls        20000 non-null  float64\n",
      " 41  perc_Customer_Care_Calls     20000 non-null  float64\n",
      " 42  perc_Threeway_Calls          20000 non-null  float64\n",
      " 43  perc_Received_Calls          20000 non-null  float64\n",
      " 44  perc_Outbound_Calls          20000 non-null  float64\n",
      " 45  perc_Inbound_Calls           20000 non-null  float64\n",
      " 46  perc_OffPeakCalls_InOut      20000 non-null  float64\n",
      " 47  perc_PeakCalls_InOut         20000 non-null  float64\n",
      " 48  ChildrenInHH_Yes             20000 non-null  uint8  \n",
      " 49  HandsetRefurbished_Yes       20000 non-null  uint8  \n",
      " 50  HandsetWebCapable_Yes        20000 non-null  uint8  \n",
      " 51  TruckOwner_Yes               20000 non-null  uint8  \n",
      " 52  RVOwner_Yes                  20000 non-null  uint8  \n",
      " 53  Homeownership_Unknown        20000 non-null  uint8  \n",
      " 54  BuysViaMailOrder_Yes         20000 non-null  uint8  \n",
      " 55  RespondsToMailOffers_Yes     20000 non-null  uint8  \n",
      " 56  OptOutMailings_Yes           20000 non-null  uint8  \n",
      " 57  NonUSTravel_Yes              20000 non-null  uint8  \n",
      " 58  OwnsComputer_Yes             20000 non-null  uint8  \n",
      " 59  HasCreditCard_Yes            20000 non-null  uint8  \n",
      " 60  NewCellphoneUser_Yes         20000 non-null  uint8  \n",
      " 61  NotNewCellphoneUser_Yes      20000 non-null  uint8  \n",
      " 62  OwnsMotorcycle_Yes           20000 non-null  uint8  \n",
      " 63  HandsetPrice_100             20000 non-null  uint8  \n",
      " 64  HandsetPrice_130             20000 non-null  uint8  \n",
      " 65  HandsetPrice_150             20000 non-null  uint8  \n",
      " 66  HandsetPrice_180             20000 non-null  uint8  \n",
      " 67  HandsetPrice_200             20000 non-null  uint8  \n",
      " 68  HandsetPrice_240             20000 non-null  uint8  \n",
      " 69  HandsetPrice_250             20000 non-null  uint8  \n",
      " 70  HandsetPrice_30              20000 non-null  uint8  \n",
      " 71  HandsetPrice_300             20000 non-null  uint8  \n",
      " 72  HandsetPrice_40              20000 non-null  uint8  \n",
      " 73  HandsetPrice_400             20000 non-null  uint8  \n",
      " 74  HandsetPrice_500             20000 non-null  uint8  \n",
      " 75  HandsetPrice_60              20000 non-null  uint8  \n",
      " 76  HandsetPrice_80              20000 non-null  uint8  \n",
      " 77  HandsetPrice_Unknown         20000 non-null  uint8  \n",
      " 78  MadeCallToRetentionTeam_Yes  20000 non-null  uint8  \n",
      " 79  CreditRating_2-High          20000 non-null  uint8  \n",
      " 80  CreditRating_3-Good          20000 non-null  uint8  \n",
      " 81  CreditRating_4-Medium        20000 non-null  uint8  \n",
      " 82  CreditRating_5-Low           20000 non-null  uint8  \n",
      " 83  CreditRating_6-VeryLow       20000 non-null  uint8  \n",
      " 84  CreditRating_7-Lowest        20000 non-null  uint8  \n",
      " 85  PrizmCode_Rural              20000 non-null  uint8  \n",
      " 86  PrizmCode_Suburban           20000 non-null  uint8  \n",
      " 87  PrizmCode_Town               20000 non-null  uint8  \n",
      " 88  Occupation_Crafts            20000 non-null  uint8  \n",
      " 89  Occupation_Homemaker         20000 non-null  uint8  \n",
      " 90  Occupation_Other             20000 non-null  uint8  \n",
      " 91  Occupation_Professional      20000 non-null  uint8  \n",
      " 92  Occupation_Retired           20000 non-null  uint8  \n",
      " 93  Occupation_Self              20000 non-null  uint8  \n",
      " 94  Occupation_Student           20000 non-null  uint8  \n",
      " 95  MaritalStatus_Unknown        20000 non-null  uint8  \n",
      " 96  MaritalStatus_Yes            20000 non-null  uint8  \n",
      "dtypes: float64(48), uint8(49)\n",
      "memory usage: 8.3 MB\n"
     ]
    }
   ],
   "source": [
    "Xf.info()"
   ]
  },
  {
   "cell_type": "code",
   "execution_count": 125,
   "metadata": {},
   "outputs": [],
   "source": [
    "Xf[Xf == np.inf] = np.nan\n",
    "Xf.fillna(Xf.mean(), inplace = True)"
   ]
  },
  {
   "cell_type": "code",
   "execution_count": 126,
   "metadata": {},
   "outputs": [
    {
     "data": {
      "text/plain": [
       "81"
      ]
     },
     "execution_count": 126,
     "metadata": {},
     "output_type": "execute_result"
    }
   ],
   "source": [
    "z = set(X_train.columns).intersection(set(Xf.columns))\n",
    "len(z)"
   ]
  },
  {
   "cell_type": "code",
   "execution_count": 127,
   "metadata": {},
   "outputs": [
    {
     "name": "stdout",
     "output_type": "stream",
     "text": [
      "<class 'pandas.core.frame.DataFrame'>\n",
      "RangeIndex: 20000 entries, 0 to 19999\n",
      "Data columns (total 81 columns):\n",
      " #   Column                       Non-Null Count  Dtype  \n",
      "---  ------                       --------------  -----  \n",
      " 0   PrizmCode_Town               20000 non-null  uint8  \n",
      " 1   HandsetPrice_60              20000 non-null  uint8  \n",
      " 2   CallForwardingCalls          20000 non-null  float64\n",
      " 3   CustomerCareCalls            20000 non-null  float64\n",
      " 4   MonthlyMinutes               20000 non-null  float64\n",
      " 5   perc_Outbound_Calls          20000 non-null  float64\n",
      " 6   MonthsInService              20000 non-null  float64\n",
      " 7   perc_Threeway_Calls          20000 non-null  float64\n",
      " 8   Homeownership_Unknown        20000 non-null  uint8  \n",
      " 9   CreditRating_7-Lowest        20000 non-null  uint8  \n",
      " 10  BuysViaMailOrder_Yes         20000 non-null  uint8  \n",
      " 11  perc_PeakCalls_InOut         20000 non-null  float64\n",
      " 12  perc_Blocked_Calls           20000 non-null  float64\n",
      " 13  HandsetPrice_180             20000 non-null  uint8  \n",
      " 14  HasCreditCard_Yes            20000 non-null  uint8  \n",
      " 15  perc_Customer_Care_Calls     20000 non-null  float64\n",
      " 16  DroppedCalls                 20000 non-null  float64\n",
      " 17  perc_Inbound_Calls           20000 non-null  float64\n",
      " 18  HandsetPrice_200             20000 non-null  uint8  \n",
      " 19  HandsetWebCapable_Yes        20000 non-null  uint8  \n",
      " 20  HandsetPrice_100             20000 non-null  uint8  \n",
      " 21  perc_Dropped_Calls           20000 non-null  float64\n",
      " 22  HandsetPrice_500             20000 non-null  uint8  \n",
      " 23  AgeHH2                       20000 non-null  float64\n",
      " 24  AdjustmentsToCreditRating    20000 non-null  float64\n",
      " 25  CreditRating_2-High          20000 non-null  uint8  \n",
      " 26  perc_Unanswered_Calls        20000 non-null  float64\n",
      " 27  ReceivedCalls                20000 non-null  float64\n",
      " 28  RetentionCalls               20000 non-null  float64\n",
      " 29  RetentionOffersAccepted      20000 non-null  float64\n",
      " 30  DroppedBlockedCalls          20000 non-null  float64\n",
      " 31  MaritalStatus_Yes            20000 non-null  uint8  \n",
      " 32  CreditRating_5-Low           20000 non-null  uint8  \n",
      " 33  UniqueSubs                   20000 non-null  float64\n",
      " 34  PercChangeRevenues           20000 non-null  float64\n",
      " 35  MonthlyRevenue               20000 non-null  float64\n",
      " 36  perc_active_subs             20000 non-null  float64\n",
      " 37  HandsetPrice_40              20000 non-null  uint8  \n",
      " 38  perc_Roaming_Calls           20000 non-null  float64\n",
      " 39  PercChangeMinutes            20000 non-null  float64\n",
      " 40  HandsetPrice_150             20000 non-null  uint8  \n",
      " 41  HandsetPrice_250             20000 non-null  uint8  \n",
      " 42  CurrentEquipmentDays         20000 non-null  float64\n",
      " 43  HandsetPrice_30              20000 non-null  uint8  \n",
      " 44  perc_Received_Calls          20000 non-null  float64\n",
      " 45  PrizmCode_Suburban           20000 non-null  uint8  \n",
      " 46  HandsetRefurbished_Yes       20000 non-null  uint8  \n",
      " 47  CreditRating_6-VeryLow       20000 non-null  uint8  \n",
      " 48  RespondsToMailOffers_Yes     20000 non-null  uint8  \n",
      " 49  ReferralsMadeBySubscriber    20000 non-null  float64\n",
      " 50  MadeCallToRetentionTeam_Yes  20000 non-null  uint8  \n",
      " 51  PeakCallsInOut               20000 non-null  float64\n",
      " 52  IncomeGroup                  20000 non-null  float64\n",
      " 53  perc_OffPeakCalls_InOut      20000 non-null  float64\n",
      " 54  DirectorAssistedCalls        20000 non-null  float64\n",
      " 55  OutboundCalls                20000 non-null  float64\n",
      " 56  AgeHH1                       20000 non-null  float64\n",
      " 57  HandsetPrice_130             20000 non-null  uint8  \n",
      " 58  MaritalStatus_Unknown        20000 non-null  uint8  \n",
      " 59  ActiveSubs                   20000 non-null  float64\n",
      " 60  HandsetPrice_Unknown         20000 non-null  uint8  \n",
      " 61  HandsetPrice_240             20000 non-null  uint8  \n",
      " 62  HandsetPrice_80              20000 non-null  uint8  \n",
      " 63  ThreewayCalls                20000 non-null  float64\n",
      " 64  HandsetModels                20000 non-null  float64\n",
      " 65  OverageMinutes               20000 non-null  float64\n",
      " 66  Handsets                     20000 non-null  float64\n",
      " 67  CallWaitingCalls             20000 non-null  float64\n",
      " 68  OffPeakCallsInOut            20000 non-null  float64\n",
      " 69  PrizmCode_Rural              20000 non-null  uint8  \n",
      " 70  perc_recurrent_charge        20000 non-null  float64\n",
      " 71  TotalRecurringCharge         20000 non-null  float64\n",
      " 72  perc_overage_minute          20000 non-null  float64\n",
      " 73  HandsetPrice_400             20000 non-null  uint8  \n",
      " 74  BlockedCalls                 20000 non-null  float64\n",
      " 75  InboundCalls                 20000 non-null  float64\n",
      " 76  HandsetPrice_300             20000 non-null  uint8  \n",
      " 77  CreditRating_3-Good          20000 non-null  uint8  \n",
      " 78  CreditRating_4-Medium        20000 non-null  uint8  \n",
      " 79  RoamingCalls                 20000 non-null  float64\n",
      " 80  UnansweredCalls              20000 non-null  float64\n",
      "dtypes: float64(48), uint8(33)\n",
      "memory usage: 8.0 MB\n"
     ]
    }
   ],
   "source": [
    "z = list(z)\n",
    "Xf = Xf[z]\n",
    "Xf.info()"
   ]
  },
  {
   "cell_type": "code",
   "execution_count": 128,
   "metadata": {},
   "outputs": [],
   "source": [
    "yf = rf_c.predict(Xf)"
   ]
  },
  {
   "cell_type": "code",
   "execution_count": 129,
   "metadata": {},
   "outputs": [
    {
     "data": {
      "text/html": [
       "<div>\n",
       "<style scoped>\n",
       "    .dataframe tbody tr th:only-of-type {\n",
       "        vertical-align: middle;\n",
       "    }\n",
       "\n",
       "    .dataframe tbody tr th {\n",
       "        vertical-align: top;\n",
       "    }\n",
       "\n",
       "    .dataframe thead th {\n",
       "        text-align: right;\n",
       "    }\n",
       "</style>\n",
       "<table border=\"1\" class=\"dataframe\">\n",
       "  <thead>\n",
       "    <tr style=\"text-align: right;\">\n",
       "      <th></th>\n",
       "      <th>Customer_ID</th>\n",
       "      <th>Churn</th>\n",
       "    </tr>\n",
       "  </thead>\n",
       "  <tbody>\n",
       "    <tr>\n",
       "      <th>0</th>\n",
       "      <td>3000006</td>\n",
       "      <td>1</td>\n",
       "    </tr>\n",
       "    <tr>\n",
       "      <th>1</th>\n",
       "      <td>3000018</td>\n",
       "      <td>1</td>\n",
       "    </tr>\n",
       "    <tr>\n",
       "      <th>2</th>\n",
       "      <td>3000034</td>\n",
       "      <td>1</td>\n",
       "    </tr>\n",
       "    <tr>\n",
       "      <th>3</th>\n",
       "      <td>3000070</td>\n",
       "      <td>1</td>\n",
       "    </tr>\n",
       "    <tr>\n",
       "      <th>4</th>\n",
       "      <td>3000074</td>\n",
       "      <td>1</td>\n",
       "    </tr>\n",
       "    <tr>\n",
       "      <th>...</th>\n",
       "      <td>...</td>\n",
       "      <td>...</td>\n",
       "    </tr>\n",
       "    <tr>\n",
       "      <th>19995</th>\n",
       "      <td>3399938</td>\n",
       "      <td>1</td>\n",
       "    </tr>\n",
       "    <tr>\n",
       "      <th>19996</th>\n",
       "      <td>3399950</td>\n",
       "      <td>1</td>\n",
       "    </tr>\n",
       "    <tr>\n",
       "      <th>19997</th>\n",
       "      <td>3399966</td>\n",
       "      <td>1</td>\n",
       "    </tr>\n",
       "    <tr>\n",
       "      <th>19998</th>\n",
       "      <td>3399970</td>\n",
       "      <td>1</td>\n",
       "    </tr>\n",
       "    <tr>\n",
       "      <th>19999</th>\n",
       "      <td>3399986</td>\n",
       "      <td>1</td>\n",
       "    </tr>\n",
       "  </tbody>\n",
       "</table>\n",
       "<p>20000 rows × 2 columns</p>\n",
       "</div>"
      ],
      "text/plain": [
       "       Customer_ID  Churn\n",
       "0          3000006      1\n",
       "1          3000018      1\n",
       "2          3000034      1\n",
       "3          3000070      1\n",
       "4          3000074      1\n",
       "...            ...    ...\n",
       "19995      3399938      1\n",
       "19996      3399950      1\n",
       "19997      3399966      1\n",
       "19998      3399970      1\n",
       "19999      3399986      1\n",
       "\n",
       "[20000 rows x 2 columns]"
      ]
     },
     "execution_count": 129,
     "metadata": {},
     "output_type": "execute_result"
    }
   ],
   "source": [
    "Final_Output = pd.DataFrame({'Customer_ID': final_df['CustomerID'], 'Churn': yf})\n",
    "Final_Output"
   ]
  },
  {
   "cell_type": "code",
   "execution_count": 136,
   "metadata": {},
   "outputs": [
    {
     "name": "stdout",
     "output_type": "stream",
     "text": [
      "Collecting scikit-plot\n",
      "  Downloading scikit_plot-0.3.7-py3-none-any.whl (33 kB)\n",
      "Requirement already satisfied: joblib>=0.10 in c:\\users\\kneel\\anaconda3\\lib\\site-packages (from scikit-plot) (1.1.0)\n",
      "Requirement already satisfied: scikit-learn>=0.18 in c:\\users\\kneel\\anaconda3\\lib\\site-packages (from scikit-plot) (0.24.2)\n",
      "Requirement already satisfied: matplotlib>=1.4.0 in c:\\users\\kneel\\anaconda3\\lib\\site-packages (from scikit-plot) (3.4.3)\n",
      "Requirement already satisfied: scipy>=0.9 in c:\\users\\kneel\\anaconda3\\lib\\site-packages (from scikit-plot) (1.7.1)\n",
      "Requirement already satisfied: pillow>=6.2.0 in c:\\users\\kneel\\anaconda3\\lib\\site-packages (from matplotlib>=1.4.0->scikit-plot) (8.4.0)\n",
      "Requirement already satisfied: python-dateutil>=2.7 in c:\\users\\kneel\\anaconda3\\lib\\site-packages (from matplotlib>=1.4.0->scikit-plot) (2.8.2)\n",
      "Requirement already satisfied: pyparsing>=2.2.1 in c:\\users\\kneel\\anaconda3\\lib\\site-packages (from matplotlib>=1.4.0->scikit-plot) (3.0.4)\n",
      "Requirement already satisfied: numpy>=1.16 in c:\\users\\kneel\\anaconda3\\lib\\site-packages (from matplotlib>=1.4.0->scikit-plot) (1.20.3)\n",
      "Requirement already satisfied: cycler>=0.10 in c:\\users\\kneel\\anaconda3\\lib\\site-packages (from matplotlib>=1.4.0->scikit-plot) (0.10.0)\n",
      "Requirement already satisfied: kiwisolver>=1.0.1 in c:\\users\\kneel\\anaconda3\\lib\\site-packages (from matplotlib>=1.4.0->scikit-plot) (1.3.1)\n",
      "Requirement already satisfied: six in c:\\users\\kneel\\anaconda3\\lib\\site-packages (from cycler>=0.10->matplotlib>=1.4.0->scikit-plot) (1.16.0)\n",
      "Requirement already satisfied: threadpoolctl>=2.0.0 in c:\\users\\kneel\\anaconda3\\lib\\site-packages (from scikit-learn>=0.18->scikit-plot) (2.2.0)\n",
      "Installing collected packages: scikit-plot\n",
      "Successfully installed scikit-plot-0.3.7\n"
     ]
    }
   ],
   "source": [
    "!pip install scikit-plot"
   ]
  },
  {
   "cell_type": "markdown",
   "metadata": {
    "id": "abauS3GolFIe"
   },
   "source": [
    "## Q6. [Bonus Question] Calculate lift chart and total monthly revenue saved by targeting top 10-20% of the customers using your best predictive model"
   ]
  },
  {
   "cell_type": "code",
   "execution_count": 140,
   "metadata": {
    "id": "6q6go8_olFIe"
   },
   "outputs": [
    {
     "data": {
      "text/plain": [
       "<AxesSubplot:title={'center':'Lift Curve'}, xlabel='Percentage of sample', ylabel='Lift'>"
      ]
     },
     "execution_count": 140,
     "metadata": {},
     "output_type": "execute_result"
    },
    {
     "data": {
      "text/plain": [
       "Text(0.5, 0, 'Predicted Probability')"
      ]
     },
     "execution_count": 140,
     "metadata": {},
     "output_type": "execute_result"
    },
    {
     "data": {
      "image/png": "[encoded data removed]",
      "text/plain": [
       "<Figure size 432x288 with 1 Axes>"
      ]
     },
     "metadata": {
      "needs_background": "light"
     },
     "output_type": "display_data"
    }
   ],
   "source": [
    "#Type your code here to plot the lift chart from the best model\n",
    "#Identify the lift i.e. 3x of capturing churn with and without using the model \n",
    "#(Assume: only top 20% high risk customers are to be targetted)\n",
    "import scikitplot as skplt\n",
    "\n",
    "\n",
    "target_prob = rf_c.predict_proba(X_test)\n",
    "skplt.metrics.plot_lift_curve(y_test, target_prob)\n",
    "plt.xlabel(\"Predicted Probability\")\n",
    "plt.show()\n",
    "\n",
    "  \n",
    "\n",
    " \n",
    "\n",
    "\n",
    "\n"
   ]
  },
  {
   "cell_type": "code",
   "execution_count": 144,
   "metadata": {},
   "outputs": [
    {
     "data": {
      "text/html": [
       "<div>\n",
       "<style scoped>\n",
       "    .dataframe tbody tr th:only-of-type {\n",
       "        vertical-align: middle;\n",
       "    }\n",
       "\n",
       "    .dataframe tbody tr th {\n",
       "        vertical-align: top;\n",
       "    }\n",
       "\n",
       "    .dataframe thead th {\n",
       "        text-align: right;\n",
       "    }\n",
       "</style>\n",
       "<table border=\"1\" class=\"dataframe\">\n",
       "  <thead>\n",
       "    <tr style=\"text-align: right;\">\n",
       "      <th></th>\n",
       "      <th>Monthly_Revenue</th>\n",
       "      <th>Predicted_probability</th>\n",
       "    </tr>\n",
       "  </thead>\n",
       "  <tbody>\n",
       "    <tr>\n",
       "      <th>9874</th>\n",
       "      <td>0.240530</td>\n",
       "      <td>0.505736</td>\n",
       "    </tr>\n",
       "    <tr>\n",
       "      <th>18498</th>\n",
       "      <td>-0.278114</td>\n",
       "      <td>0.612253</td>\n",
       "    </tr>\n",
       "    <tr>\n",
       "      <th>43442</th>\n",
       "      <td>1.872570</td>\n",
       "      <td>0.503964</td>\n",
       "    </tr>\n",
       "    <tr>\n",
       "      <th>18634</th>\n",
       "      <td>-0.147436</td>\n",
       "      <td>0.415159</td>\n",
       "    </tr>\n",
       "    <tr>\n",
       "      <th>41496</th>\n",
       "      <td>0.530367</td>\n",
       "      <td>0.458707</td>\n",
       "    </tr>\n",
       "    <tr>\n",
       "      <th>...</th>\n",
       "      <td>...</td>\n",
       "      <td>...</td>\n",
       "    </tr>\n",
       "    <tr>\n",
       "      <th>34808</th>\n",
       "      <td>-0.038059</td>\n",
       "      <td>0.292292</td>\n",
       "    </tr>\n",
       "    <tr>\n",
       "      <th>27953</th>\n",
       "      <td>1.057388</td>\n",
       "      <td>0.652927</td>\n",
       "    </tr>\n",
       "    <tr>\n",
       "      <th>33804</th>\n",
       "      <td>0.598818</td>\n",
       "      <td>0.444152</td>\n",
       "    </tr>\n",
       "    <tr>\n",
       "      <th>38902</th>\n",
       "      <td>-0.694561</td>\n",
       "      <td>0.560369</td>\n",
       "    </tr>\n",
       "    <tr>\n",
       "      <th>1744</th>\n",
       "      <td>-0.961422</td>\n",
       "      <td>0.439163</td>\n",
       "    </tr>\n",
       "  </tbody>\n",
       "</table>\n",
       "<p>21010 rows × 2 columns</p>\n",
       "</div>"
      ],
      "text/plain": [
       "       Monthly_Revenue  Predicted_probability\n",
       "9874          0.240530               0.505736\n",
       "18498        -0.278114               0.612253\n",
       "43442         1.872570               0.503964\n",
       "18634        -0.147436               0.415159\n",
       "41496         0.530367               0.458707\n",
       "...                ...                    ...\n",
       "34808        -0.038059               0.292292\n",
       "27953         1.057388               0.652927\n",
       "33804         0.598818               0.444152\n",
       "38902        -0.694561               0.560369\n",
       "1744         -0.961422               0.439163\n",
       "\n",
       "[21010 rows x 2 columns]"
      ]
     },
     "execution_count": 144,
     "metadata": {},
     "output_type": "execute_result"
    }
   ],
   "source": [
    "new_df = pd.DataFrame({'Monthly_Revenue': X_test['MonthlyRevenue'], 'Predicted_probability': target_prob[:,1]})\n",
    "#new_df.sort_values(by = 'Predicted_probability', ascending = False)\n",
    "new_df"
   ]
  },
  {
   "cell_type": "code",
   "execution_count": 145,
   "metadata": {},
   "outputs": [
    {
     "data": {
      "text/html": [
       "<div>\n",
       "<style scoped>\n",
       "    .dataframe tbody tr th:only-of-type {\n",
       "        vertical-align: middle;\n",
       "    }\n",
       "\n",
       "    .dataframe tbody tr th {\n",
       "        vertical-align: top;\n",
       "    }\n",
       "\n",
       "    .dataframe thead th {\n",
       "        text-align: right;\n",
       "    }\n",
       "</style>\n",
       "<table border=\"1\" class=\"dataframe\">\n",
       "  <thead>\n",
       "    <tr style=\"text-align: right;\">\n",
       "      <th></th>\n",
       "      <th>Monthly_Revenue</th>\n",
       "      <th>Predicted_probability</th>\n",
       "    </tr>\n",
       "  </thead>\n",
       "  <tbody>\n",
       "    <tr>\n",
       "      <th>39493</th>\n",
       "      <td>-0.898476</td>\n",
       "      <td>0.923534</td>\n",
       "    </tr>\n",
       "    <tr>\n",
       "      <th>17002</th>\n",
       "      <td>-0.898476</td>\n",
       "      <td>0.920203</td>\n",
       "    </tr>\n",
       "    <tr>\n",
       "      <th>17002</th>\n",
       "      <td>-0.898476</td>\n",
       "      <td>0.920203</td>\n",
       "    </tr>\n",
       "    <tr>\n",
       "      <th>38884</th>\n",
       "      <td>-0.898476</td>\n",
       "      <td>0.917808</td>\n",
       "    </tr>\n",
       "    <tr>\n",
       "      <th>38884</th>\n",
       "      <td>-0.898476</td>\n",
       "      <td>0.917808</td>\n",
       "    </tr>\n",
       "    <tr>\n",
       "      <th>...</th>\n",
       "      <td>...</td>\n",
       "      <td>...</td>\n",
       "    </tr>\n",
       "    <tr>\n",
       "      <th>49250</th>\n",
       "      <td>-0.533487</td>\n",
       "      <td>0.106090</td>\n",
       "    </tr>\n",
       "    <tr>\n",
       "      <th>38809</th>\n",
       "      <td>-0.539470</td>\n",
       "      <td>0.103297</td>\n",
       "    </tr>\n",
       "    <tr>\n",
       "      <th>41573</th>\n",
       "      <td>-0.539470</td>\n",
       "      <td>0.100732</td>\n",
       "    </tr>\n",
       "    <tr>\n",
       "      <th>39242</th>\n",
       "      <td>-0.569866</td>\n",
       "      <td>0.093258</td>\n",
       "    </tr>\n",
       "    <tr>\n",
       "      <th>45000</th>\n",
       "      <td>-0.535641</td>\n",
       "      <td>0.092571</td>\n",
       "    </tr>\n",
       "  </tbody>\n",
       "</table>\n",
       "<p>21010 rows × 2 columns</p>\n",
       "</div>"
      ],
      "text/plain": [
       "       Monthly_Revenue  Predicted_probability\n",
       "39493        -0.898476               0.923534\n",
       "17002        -0.898476               0.920203\n",
       "17002        -0.898476               0.920203\n",
       "38884        -0.898476               0.917808\n",
       "38884        -0.898476               0.917808\n",
       "...                ...                    ...\n",
       "49250        -0.533487               0.106090\n",
       "38809        -0.539470               0.103297\n",
       "41573        -0.539470               0.100732\n",
       "39242        -0.569866               0.093258\n",
       "45000        -0.535641               0.092571\n",
       "\n",
       "[21010 rows x 2 columns]"
      ]
     },
     "execution_count": 145,
     "metadata": {},
     "output_type": "execute_result"
    }
   ],
   "source": [
    "new_df.sort_values(by = 'Predicted_probability', ascending = False)"
   ]
  },
  {
   "cell_type": "markdown",
   "metadata": {
    "id": "5BCprZwTlFIe"
   },
   "source": [
    "<mark>__Result:__\n",
    "    \n",
    "1. What is the % actual churn captured by targeting top 20% (top 2 deciles) of the customers sorted by their churn probability?\n",
    "2. What is the total monthly revenue of actual churn customers identified in the top 20% of the customers?\n",
    "   "
   ]
  }
 ],
 "metadata": {
  "colab": {
   "name": "Project 8 Starter Code.ipynb",
   "provenance": []
  },
  "kernelspec": {
   "display_name": "Python 3 (ipykernel)",
   "language": "python",
   "name": "python3"
  },
  "language_info": {
   "codemirror_mode": {
    "name": "ipython",
    "version": 3
   },
   "file_extension": ".py",
   "mimetype": "text/x-python",
   "name": "python",
   "nbconvert_exporter": "python",
   "pygments_lexer": "ipython3",
   "version": "3.9.7"
  }
 },
 "nbformat": 4,
 "nbformat_minor": 1
}
