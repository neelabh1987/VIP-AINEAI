{
 "cells": [
  {
   "cell_type": "markdown",
   "id": "6e07e0b7",
   "metadata": {},
   "source": [
    "# Fundamentals of Python"
   ]
  },
  {
   "cell_type": "markdown",
   "id": "750d0001",
   "metadata": {},
   "source": [
    "### In this session, we are learning the fundamental concepts of python and a program to create a calculator"
   ]
  },
  {
   "cell_type": "code",
   "execution_count": 1,
   "id": "f38c7cf9",
   "metadata": {},
   "outputs": [
    {
     "name": "stdout",
     "output_type": "stream",
     "text": [
      "We are learning Python\n"
     ]
    }
   ],
   "source": [
    "# print() is used to print something\n",
    "\n",
    "print(\"We are learning Python\") # This is a comment"
   ]
  },
  {
   "cell_type": "code",
   "execution_count": 2,
   "id": "94157d09",
   "metadata": {},
   "outputs": [
    {
     "data": {
      "text/plain": [
       "12"
      ]
     },
     "execution_count": 2,
     "metadata": {},
     "output_type": "execute_result"
    }
   ],
   "source": [
    "5+9-2"
   ]
  },
  {
   "cell_type": "markdown",
   "id": "b8c075c5",
   "metadata": {},
   "source": [
    "***Variables***\n",
    "\n",
    "Variables are objects/things the value of which can vary<br>\n",
    "\n",
    "x = 5 means we are assigning the value of 5 to x<br>\n",
    "\n",
    "x = 7 means the new value of x is 7"
   ]
  },
  {
   "cell_type": "code",
   "execution_count": 4,
   "id": "4b8a92ea",
   "metadata": {},
   "outputs": [],
   "source": [
    "FName = \"AINE\" # string, str\n",
    "LName = \"@AI\"  # string, str\n",
    "BMI = 56.7  # float\n",
    "phone = 2346789 # integer, int\n",
    "Company = True # Boolean, bool"
   ]
  },
  {
   "cell_type": "code",
   "execution_count": 5,
   "id": "30c57bce",
   "metadata": {},
   "outputs": [
    {
     "name": "stdout",
     "output_type": "stream",
     "text": [
      "AINE\n",
      "@AI\n",
      "AINE @AI\n",
      "AINE@AI\n"
     ]
    }
   ],
   "source": [
    "print(FName)\n",
    "print(LName)\n",
    "print(FName, LName)\n",
    "print(FName + LName)"
   ]
  },
  {
   "cell_type": "code",
   "execution_count": 6,
   "id": "f8f25fdb",
   "metadata": {},
   "outputs": [
    {
     "name": "stdout",
     "output_type": "stream",
     "text": [
      "<class 'str'>\n",
      "<class 'float'>\n",
      "<class 'int'>\n",
      "<class 'bool'>\n"
     ]
    }
   ],
   "source": [
    "# Using type(), we can print the data type of any variable\n",
    "\n",
    "print(type(FName))\n",
    "print(type(BMI))\n",
    "print(type(phone))\n",
    "print(type(Company))"
   ]
  },
  {
   "cell_type": "markdown",
   "id": "9be1bcc9",
   "metadata": {},
   "source": [
    "**Grading System**<br>\n",
    "\n",
    "*Take marks in 5 subjects & calculate total*<br>\n",
    "\n",
    "*85 or above is A*<br>\n",
    "*70 or above is B*<br>\n",
    "*50 or above is C*<br>\n",
    "*40 or above is D*<br>\n",
    "*Less than 40 is E*"
   ]
  },
  {
   "cell_type": "code",
   "execution_count": 11,
   "id": "0fb54f0d",
   "metadata": {},
   "outputs": [
    {
     "name": "stdout",
     "output_type": "stream",
     "text": [
      "Marks obtained in Maths: 95\n",
      "Marks obtained in Science: 45\n",
      "Marks obtained in language: 85\n",
      "Marks obtained in ssc: 65\n",
      "Marks obtained in compter science: 88\n",
      "Your total score is : 378\n",
      "Your percentage is:  75.6\n",
      "Grade is B\n"
     ]
    }
   ],
   "source": [
    "m =int(input(\"Marks obtained in Maths: \"))\n",
    "s =int(input(\"Marks obtained in Science: \"))\n",
    "l =int(input(\"Marks obtained in language: \"))\n",
    "ss =int(input(\"Marks obtained in ssc: \"))\n",
    "cs =int(input(\"Marks obtained in compter science: \"))\n",
    "\n",
    "Total = m+s+l+ss+cs\n",
    "print(\"Your total score is :\", Total)\n",
    "\n",
    "percentage = Total/5\n",
    "print(\"Your percentage is: \", percentage)\n",
    "if percentage >= 85:\n",
    "    print(\"Grade is A\")\n",
    "elif percentage >= 70:\n",
    "    print(\"Grade is B\")\n",
    "elif percentage >= 50:\n",
    "    print(\"Grade is C\")\n",
    "elif percentage >= 40:\n",
    "    print(\"Grade is D\")\n",
    "else:\n",
    "    print(\"Grade is E\")"
   ]
  },
  {
   "cell_type": "markdown",
   "id": "f13847b5",
   "metadata": {},
   "source": [
    "## Loops in Python\n",
    "\n",
    "Loops are used to repeat certain task or action. There are 2 types of loops in Python:<br>\n",
    "\n",
    "WHILE Loop : The repeatition depends on the validity of condition<br>\n",
    "FOR Loop: The number of repeatition is known"
   ]
  },
  {
   "cell_type": "code",
   "execution_count": 1,
   "id": "828d3eea",
   "metadata": {},
   "outputs": [
    {
     "name": "stdout",
     "output_type": "stream",
     "text": [
      "7\n",
      "8\n",
      "9\n",
      "10\n",
      "11\n",
      "12\n",
      "13\n",
      "14\n",
      "15\n"
     ]
    }
   ],
   "source": [
    "# While Loop\n",
    "\n",
    "x = 7\n",
    "\n",
    "while x <= 15:\n",
    "    print(x)\n",
    "    x += 1"
   ]
  },
  {
   "cell_type": "code",
   "execution_count": 2,
   "id": "b90d647a",
   "metadata": {},
   "outputs": [
    {
     "name": "stdout",
     "output_type": "stream",
     "text": [
      "6\n",
      "7\n",
      "8\n",
      "9\n",
      "10\n"
     ]
    }
   ],
   "source": [
    "# For Loop -- We set a range or list of iterables for repeatition\n",
    "\n",
    "for x in range(6,11):# Range function is used to iterate from lower end to upper end, but excluding upper end\n",
    "    print(x)"
   ]
  },
  {
   "cell_type": "code",
   "execution_count": 3,
   "id": "72b8737f",
   "metadata": {},
   "outputs": [
    {
     "name": "stdout",
     "output_type": "stream",
     "text": [
      "apple\n",
      "True\n",
      "['mango', 'apple', 'banana', 'guava']\n",
      "<class 'str'>\n"
     ]
    }
   ],
   "source": [
    "# Python lists\n",
    "# A List is an ordered collection of items with one or more data types, separated by comma & all enclosed within square brackets.\n",
    "\n",
    "fruits = ['mango', 'apple', 'banana', 'guava', 5, True]\n",
    "\n",
    "print(fruits[1]) # Taking 2nd element from list\n",
    "\n",
    "print(fruits[-1]) # Taking last element from list\n",
    "\n",
    "print(fruits[:4]) # Slicing the first 4 elements from list\n",
    "\n",
    "print(type(fruits[2])) # printing the data type of 3rd element of list"
   ]
  },
  {
   "cell_type": "code",
   "execution_count": 4,
   "id": "529a0b23",
   "metadata": {},
   "outputs": [
    {
     "name": "stdout",
     "output_type": "stream",
     "text": [
      "mango\n",
      "apple\n",
      "banana\n",
      "guava\n",
      "5\n",
      "True\n"
     ]
    }
   ],
   "source": [
    "# Using For loop with List\n",
    "for x in fruits:\n",
    "    print(x)"
   ]
  },
  {
   "cell_type": "code",
   "execution_count": 3,
   "id": "f282c118",
   "metadata": {},
   "outputs": [
    {
     "name": "stdout",
     "output_type": "stream",
     "text": [
      "Enter the first num: 45\n",
      "Enter the second num: 34\n",
      "Select the mathematical operation to perform: 1 for Addition, 2 for Subtraction, 3 for Multiplication & 4 for Division :5\n",
      "Invalid entry\n",
      "Do you want to continue (y/n): y\n",
      "Enter the first num: 56\n",
      "Enter the second num: 34\n",
      "Select the mathematical operation to perform: 1 for Addition, 2 for Subtraction, 3 for Multiplication & 4 for Division :2\n",
      "The result is:  22.0\n",
      "Do you want to continue (y/n): n\n"
     ]
    }
   ],
   "source": [
    "# Python program to build a simple calculator with option to Quit or Continue\n",
    "\n",
    "begin = 'y'  # \"=\" is used to assign a value to a variable\n",
    "\n",
    "while begin.lower() == 'y': # \"==\" is a comparison operator to compare LHS = RHS, Output is TRUE or FALSE\n",
    "    num1 = float(input(\"Enter the first num: \"))\n",
    "    num2 = float(input(\"Enter the second num: \"))\n",
    "    \n",
    "    option = int(input(\"Select the mathematical operation to perform: 1 for Addition, 2 for Subtraction, 3 for Multiplication & 4 for Division :\"))\n",
    "    \n",
    "    if option == 1:\n",
    "        result = num1 + num2\n",
    "        print(\"The result is: \", result)\n",
    "        \n",
    "    elif option == 2:\n",
    "        result = num1 - num2\n",
    "        print(\"The result is: \", result)\n",
    "        \n",
    "    elif option == 3:\n",
    "        result = num1 * num2\n",
    "        print(\"The result is: \", result)\n",
    "        \n",
    "    elif option == 4:\n",
    "        result = num1/num2\n",
    "        print(\"The result is: \", result)\n",
    "        \n",
    "    else:\n",
    "        print('Invalid entry')\n",
    "        \n",
    "    begin = input(\"Do you want to continue (y/n): \")\n",
    "    \n",
    "    if begin == \"n\":\n",
    "        break # stopping the further execution of loop"
   ]
  },
  {
   "cell_type": "code",
   "execution_count": 2,
   "id": "1df30b67",
   "metadata": {},
   "outputs": [
    {
     "name": "stdout",
     "output_type": "stream",
     "text": [
      "36335\n"
     ]
    }
   ],
   "source": [
    "# Using Python random library to generate random numbers\n",
    "\n",
    "import random as r\n",
    "\n",
    "otp = \"\"\n",
    "for i in range(5): \n",
    "    otp = otp + str(r.randint(3,9))   # randint function is used to randomly generate a number from a given range of numbers\n",
    "print(otp)\n",
    "    "
   ]
  },
  {
   "cell_type": "markdown",
   "id": "157133bf",
   "metadata": {},
   "source": [
    "### Project on Rock, Scissors, Paper, Lizard & Spock"
   ]
  },
  {
   "cell_type": "code",
   "execution_count": 1,
   "id": "a3a36748",
   "metadata": {},
   "outputs": [
    {
     "name": "stdout",
     "output_type": "stream",
     "text": [
      "Enter a choice (rock, paper, scissors, lizard, spock): paper\n",
      "You chose paper, computer choose rock\n",
      "Paper covers rock! You win!\n",
      "Play again? (y/n): y\n",
      "Enter a choice (rock, paper, scissors, lizard, spock): spock\n",
      "You chose spock, computer choose rock\n",
      "Spock vaporizes rock! You win!\n",
      "Play again? (y/n): n\n"
     ]
    }
   ],
   "source": [
    "import random\n",
    "\n",
    "while True:\n",
    "    user_action = input(\"Enter a choice (rock, paper, scissors, lizard, spock): \") # Taking input from the user\n",
    "    \n",
    "    \n",
    "    possible_actions = [\"rock\", \"paper\", \"scissors\", \"lizard\", \"spock\"]\n",
    "    computer_action = random.choice(possible_actions) # to enable computer to choose a random object, a list of objects is created\n",
    "    \n",
    "    print(\"You chose {0}, computer choose {1}\".format(user_action, computer_action))\n",
    "\n",
    "    if user_action == computer_action:\n",
    "        print(\"Both players selected\", user_action, \"It's a tie!\")\n",
    "    elif user_action == \"rock\":\n",
    "        if computer_action == \"scissors\":\n",
    "            print(\"Rock smashes scissors! You win!\")\n",
    "        elif computer_action == \"paper\":\n",
    "            print(\"Paper covers rock! You lose!\")\n",
    "        elif computer_action == \"lizard\":\n",
    "            print(\"Rock crushes lizard! You win!\")\n",
    "        elif computer_action == \"spock\":\n",
    "            print(\"Spock vaporizes rock! You lose.\")\n",
    "    \n",
    "    elif user_action == \"paper\":\n",
    "        if computer_action == \"rock\":\n",
    "            print(\"Paper covers rock! You win!\")\n",
    "        elif computer_action == \"scissors\":\n",
    "            print(\"Scissors cut paper! You lose!\")\n",
    "        elif computer_action == \"lizard\":\n",
    "            print(\"Lizard eats paper! You lose!\")\n",
    "        elif computer_action == \"spock\":\n",
    "            print(\"Paper disproves spock! You win!\")\n",
    "            \n",
    "    elif user_action == \"scissors\":\n",
    "        if computer_action == \"rock\":\n",
    "            print(\"Rock smashes scissors! You lose!\")\n",
    "        elif computer_action == \"paper\":\n",
    "            print(\"Scissors cut paper! You win!\")\n",
    "        elif computer_action == \"lizard\":\n",
    "            print(\"Scissors decapitates lizard! You win!\")\n",
    "        elif computer_action == \"spock\":\n",
    "            print(\"Spock smashes scissors! You lose!\")\n",
    "            \n",
    "    elif user_action == \"lizard\":\n",
    "        if computer_action == \"scissors\":\n",
    "            print(\"Scissors decapitates lizard! You lose!\")\n",
    "        elif computer_action == \"paper\":\n",
    "            print(\"Lizard eats paper! You win!\")\n",
    "        elif computer_action == \"rock\":\n",
    "            print(\"Rock crushes lizard! You lose!\")\n",
    "        elif computer_action == \"spock\":\n",
    "            print(\"Lizard poisons spock! You win!\")\n",
    "            \n",
    "    elif user_action == \"spock\":\n",
    "        if computer_action == \"scissors\":\n",
    "            print(\"Spock smashes scissors! You win!\")\n",
    "        elif computer_action == \"paper\":\n",
    "            print(\"Paper disproves spock! You lose!\")\n",
    "        elif computer_action == \"lizard\":\n",
    "            print(\"Lizard poisons spock! You lose!\")\n",
    "        elif computer_action == \"rock\":\n",
    "            print(\"Spock vaporizes rock! You win!\")\n",
    "            \n",
    "            \n",
    "      \n",
    "    play_again = input(\"Play again? (y/n): \")\n",
    "    if play_again.lower() != \"y\":\n",
    "        break"
   ]
  },
  {
   "cell_type": "code",
   "execution_count": null,
   "id": "152a7fee",
   "metadata": {},
   "outputs": [],
   "source": []
  }
 ],
 "metadata": {
  "kernelspec": {
   "display_name": "Python 3 (ipykernel)",
   "language": "python",
   "name": "python3"
  },
  "language_info": {
   "codemirror_mode": {
    "name": "ipython",
    "version": 3
   },
   "file_extension": ".py",
   "mimetype": "text/x-python",
   "name": "python",
   "nbconvert_exporter": "python",
   "pygments_lexer": "ipython3",
   "version": "3.9.7"
  }
 },
 "nbformat": 4,
 "nbformat_minor": 5
}
